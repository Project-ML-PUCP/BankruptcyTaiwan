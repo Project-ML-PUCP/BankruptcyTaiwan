{
  "nbformat": 4,
  "nbformat_minor": 0,
  "metadata": {
    "colab": {
      "name": "05. Deployment_SVM.ipynb",
      "provenance": [],
      "collapsed_sections": []
    },
    "kernelspec": {
      "name": "python3",
      "display_name": "Python 3.8.6 64-bit"
    },
    "language_info": {
      "name": "python",
      "version": "3.8.6"
    },
    "interpreter": {
      "hash": "a6974f591a6cacf7a81ec2d11a96a55a57f0f00ff64e51bda44c50474fd6653c"
    }
  },
  "cells": [
    {
      "cell_type": "code",
      "metadata": {
        "id": "VgSt9f0AY6TQ"
      },
      "source": [
        "ga_update = 1"
      ],
      "execution_count": 1,
      "outputs": []
    },
    {
      "cell_type": "code",
      "metadata": {
        "colab": {
          "base_uri": "https://localhost:8080/"
        },
        "id": "B8PHL0mSRImM",
        "outputId": "0d356e6e-a98d-422c-c17e-bb17c1c8c058"
      },
      "source": [
        "if ga_update:\n",
        "  !pip install deap\n",
        "  !pip install --upgrade scikit-learn==0.23.2\n",
        "  !git clone https://github.com/senolakkas/sklearn-optimize\n",
        "  !mv sklearn-optimize/ sklearn_genetic/"
      ],
      "execution_count": 3,
      "outputs": [
        {
          "output_type": "stream",
          "text": [
            "Requirement already satisfied: deap in /usr/local/lib/python3.7/dist-packages (1.3.1)\n",
            "Requirement already satisfied: numpy in /usr/local/lib/python3.7/dist-packages (from deap) (1.19.5)\n",
            "Requirement already up-to-date: scikit-learn==0.23.2 in /usr/local/lib/python3.7/dist-packages (0.23.2)\n",
            "Requirement already satisfied, skipping upgrade: joblib>=0.11 in /usr/local/lib/python3.7/dist-packages (from scikit-learn==0.23.2) (1.0.1)\n",
            "Requirement already satisfied, skipping upgrade: threadpoolctl>=2.0.0 in /usr/local/lib/python3.7/dist-packages (from scikit-learn==0.23.2) (2.1.0)\n",
            "Requirement already satisfied, skipping upgrade: numpy>=1.13.3 in /usr/local/lib/python3.7/dist-packages (from scikit-learn==0.23.2) (1.19.5)\n",
            "Requirement already satisfied, skipping upgrade: scipy>=0.19.1 in /usr/local/lib/python3.7/dist-packages (from scikit-learn==0.23.2) (1.4.1)\n",
            "Cloning into 'sklearn-optimize'...\n",
            "remote: Enumerating objects: 29, done.\u001b[K\n",
            "remote: Total 29 (delta 0), reused 0 (delta 0), pack-reused 29\u001b[K\n",
            "Unpacking objects: 100% (29/29), done.\n"
          ],
          "name": "stdout"
        }
      ]
    },
    {
      "cell_type": "markdown",
      "metadata": {
        "id": "eJ0hxe84psVf"
      },
      "source": [
        "### Library imports"
      ]
    },
    {
      "cell_type": "code",
      "metadata": {
        "id": "9ecVSwJDWhU9"
      },
      "source": [
        "import os\n",
        "import numpy as np\n",
        "import pandas as pd\n",
        "import seaborn as sns\n",
        "from matplotlib import pyplot as plt\n",
        "from deap import base, creator, tools, algorithms\n",
        "from sklearn.base import clone, is_classifier\n",
        "from sklearn.model_selection import StratifiedKFold\n",
        "from sklearn.svm import SVC\n",
        "from sklearn.model_selection import GridSearchCV\n",
        "from sklearn.metrics import accuracy_score\n",
        "from sklearn.metrics import precision_score\n",
        "from sklearn.metrics import recall_score\n",
        "from sklearn.metrics import f1_score\n",
        "from sklearn.metrics import confusion_matrix\n",
        "from sklearn.metrics import plot_confusion_matrix\n",
        "from sklearn.metrics import plot_roc_curve\n",
        "from sklearn.metrics import roc_curve, roc_auc_score\n",
        "from sklearn.metrics import plot_precision_recall_curve\n",
        "from sklearn.model_selection import train_test_split\n",
        "\n",
        "import joblib\n",
        "\n",
        "import random\n",
        "from collections import OrderedDict\n",
        "import warnings\n",
        "warnings.filterwarnings('ignore')"
      ],
      "execution_count": 45,
      "outputs": []
    },
    {
      "cell_type": "code",
      "metadata": {
        "id": "_XE-8aZBvUNO"
      },
      "source": [
        "## sklearn-optimize es tomado de: https://github.com/senolakkas/sklearn-optimize\n",
        "from sklearn_genetic.genetic import GeneticSearchCV"
      ],
      "execution_count": 5,
      "outputs": []
    },
    {
      "cell_type": "code",
      "metadata": {
        "id": "2FLAn1S67HUw"
      },
      "source": [
        "# GeneticSearchCV modificado\n",
        "class GeneticSearchCVMod(GeneticSearchCV):\n",
        "     def __init__(self, estimator, params, scoring=None, cv=4,\n",
        "                 refit=True, verbose=False, population_size=50,\n",
        "                 gene_mutation_prob=0.1, gene_crossover_prob=0.5,\n",
        "                 tournament_size=3, generations_number=10, gene_type=None,\n",
        "                 n_jobs=1, iid=True, error_score='raise',\n",
        "                 fit_params={}):\n",
        "        super(GeneticSearchCV, self).__init__(\n",
        "            estimator=estimator, scoring=scoring,\n",
        "            iid=iid, refit=refit, cv=cv, verbose=verbose,\n",
        "            error_score=error_score)\n",
        "        self.fit_params=fit_params\n",
        "        self.params = params\n",
        "        self.population_size = population_size\n",
        "        self.generations_number = generations_number\n",
        "        self._individual_evals = {}\n",
        "        self.gene_mutation_prob = gene_mutation_prob\n",
        "        self.gene_crossover_prob = gene_crossover_prob\n",
        "        self.tournament_size = tournament_size\n",
        "        self.gene_type = gene_type\n",
        "        self.all_history_, self.all_logbooks_ = [], []\n",
        "        self._cv_results = None\n",
        "        self.best_score_ = None\n",
        "        self.best_params_ = None\n",
        "        self.score_cache = {}\n",
        "        self.n_jobs = n_jobs\n",
        "        creator.create(\"FitnessMax\", base.Fitness, weights=(1.0,))\n",
        "        creator.create(\"Individual\", list, est=clone(self.estimator), fitness=creator.FitnessMax)"
      ],
      "execution_count": 6,
      "outputs": []
    },
    {
      "cell_type": "markdown",
      "metadata": {
        "id": "nxGtKkgx7HUx"
      },
      "source": [
        "## Selección de features importantes"
      ]
    },
    {
      "cell_type": "code",
      "metadata": {
        "id": "0kEDEipR7HUx"
      },
      "source": [
        "important_features = ['X30',\n",
        " 'X90',\n",
        " 'X43',\n",
        " 'X40',\n",
        " 'X19',\n",
        " 'X59',\n",
        " 'X57',\n",
        " 'X92',\n",
        " 'X23',\n",
        " 'X38',\n",
        " 'X35',\n",
        " 'X86',\n",
        " 'X93',\n",
        " 'X37',\n",
        " 'X16',\n",
        " 'X65',\n",
        " 'X17',\n",
        " 'X9',\n",
        " 'X14',\n",
        " 'X1',\n",
        " 'X34',\n",
        " 'X18',\n",
        " 'X87',\n",
        " 'X3',\n",
        " 'X10',\n",
        " 'X95',\n",
        " 'X36',\n",
        " 'X53',\n",
        " 'X69',\n",
        " 'X74',\n",
        " 'X46',\n",
        " 'X91',\n",
        " 'X47',\n",
        " 'X54',\n",
        " 'X62',\n",
        " 'X68',\n",
        " 'X78',\n",
        " 'X31',\n",
        " 'X58',\n",
        " 'X12',\n",
        " 'X51',\n",
        " 'X7',\n",
        " 'X28',\n",
        " 'X66',\n",
        " 'X81',\n",
        " 'X44',\n",
        " 'X29',\n",
        " 'X49',\n",
        " 'X52',\n",
        " 'X8',\n",
        " 'X33',\n",
        " 'X32',\n",
        " 'X88',\n",
        " 'X42',\n",
        " 'X79',\n",
        " 'X71',\n",
        " 'X22',\n",
        " 'X50',\n",
        " 'X48',\n",
        " 'X20',\n",
        " 'X26',\n",
        " 'X24',\n",
        " 'X2',\n",
        " 'X89',\n",
        " 'X80',\n",
        " 'X82',\n",
        " 'X27',\n",
        " 'X5',\n",
        " 'X4',\n",
        " 'X11']"
      ],
      "execution_count": 36,
      "outputs": []
    },
    {
      "cell_type": "code",
      "metadata": {
        "id": "1BFxAhy77HUy"
      },
      "source": [
        "# se carga dataset imputado\n",
        "imputed_df = pd.read_pickle('dataset_normalizado.pkl')"
      ],
      "execution_count": 37,
      "outputs": []
    },
    {
      "cell_type": "code",
      "metadata": {
        "id": "T2rl-xce7HUy"
      },
      "source": [
        "# función para separar las columnas en variables y etiquetas ('flag')\n",
        "def split_features(df,features):\n",
        "    feature_dfs = df[features]\n",
        "    label_dfs = df['flag']\n",
        "    return feature_dfs, label_dfs"
      ],
      "execution_count": 38,
      "outputs": []
    },
    {
      "cell_type": "markdown",
      "metadata": {
        "id": "pVq30rd0dulX"
      },
      "source": [
        "## Estrategia de entrenamiento y validación"
      ]
    },
    {
      "cell_type": "code",
      "metadata": {
        "id": "j-2Xuebl7HUz"
      },
      "source": [
        "# Validación cruzada mediante K-fold estratificado\n",
        "def kfold_cv(k, X, y, verbose=False):\n",
        "    X = X.values  # Variables\n",
        "    y = y.values  # Etiquetas\n",
        "    kf = StratifiedKFold(n_splits=k, shuffle=False, random_state=42)\n",
        "    # inicializamos los sets vacios\n",
        "    X_train = [] \n",
        "    y_train = []\n",
        "    X_test = []\n",
        "    y_test = []\n",
        "    # usamos el split \n",
        "    for train_index, test_index in kf.split(X,y):\n",
        "        X_train.append(X[train_index])\n",
        "        y_train.append(y[train_index])\n",
        "        X_test.append(X[test_index])\n",
        "        y_test.append(y[test_index])\n",
        "    return X_train, y_train, X_test, y_test\n",
        "# seteamos la semilla para tener valores random predecibles\n",
        "seed = 7"
      ],
      "execution_count": 39,
      "outputs": []
    },
    {
      "cell_type": "code",
      "metadata": {
        "id": "LYsrlKIR7HUz"
      },
      "source": [
        "# Modelamiento de la data usando un diccionario de datasets y modelos\n",
        "def perform_data_modeling(_models_, imputed_df, verbose=False, k_folds=5):\n",
        "    # 7 metricas, usando K-Folds\n",
        "    # en model_results guardaremos los resultados por clasificador y datasets\n",
        "    model_results = OrderedDict()\n",
        "\n",
        "    # Iteramos sobre los clasificadores\n",
        "    for model_name, clf in _models_.items():\n",
        "        if verbose: print(\"-\" * 120, \"\\n\", \"Model: \" + '\\033[1m' + model_name + '\\033[0m' + \" Classifier\")\n",
        "        imputer_results = OrderedDict()\n",
        "\n",
        "        # hacemos la division del dataframe en variables y etiquetas\n",
        "        features_df, labels_df = split_features(imputed_df,important_features)\n",
        "\n",
        "        df_index = 0\n",
        "        if verbose: print('\\t\\tDataset: ' + '\\033[1m' + str(df_index + 1) + 'year' + '\\033[0m')\n",
        "        # Ejecutamos la validación cruzada K-fold en los sets de entranamiento y test\n",
        "        X_train_list, y_train_list, X_test_list, y_test_list = kfold_cv(k_folds, features_df, labels_df, verbose)\n",
        "\n",
        "        metrics = OrderedDict()\n",
        "\n",
        "        # incializamos las metricas a guardar\n",
        "        accuracy_list = np.zeros([k_folds])\n",
        "        precision_list = np.zeros([k_folds, 2])\n",
        "        recall_list = np.zeros([k_folds, 2])\n",
        "        true_negs = np.zeros([k_folds])\n",
        "        false_pos = np.zeros([k_folds])\n",
        "        false_negs = np.zeros([k_folds])\n",
        "        true_pos = np.zeros([k_folds])\n",
        "        auc_list = np.zeros([k_folds])\n",
        "\n",
        "        # Iteramos sobre los k-folds para el cálculo de las métricas\n",
        "        for k in range(k_folds):\n",
        "            X_train = X_train_list[k]\n",
        "            y_train = y_train_list[k]\n",
        "            X_test = X_test_list[k]\n",
        "            y_test = y_test_list[k]\n",
        "\n",
        "            # Fit del modelo \n",
        "            clf = clf.fit(X_train, y_train)\n",
        "            # y predicción en el set de test\n",
        "            y_test_predicted = clf.predict(X_test)\n",
        "            # presentamos la matriz de confusión\n",
        "            print(confusion_matrix(y_test_predicted, y_test))\n",
        "\n",
        "            # guardamos accuracy y recall\n",
        "            _accuracy_ = accuracy_score(y_test, y_test_predicted, normalize=True)\n",
        "            accuracy_list[k] = _accuracy_\n",
        "            _recalls_ = recall_score(y_test, y_test_predicted, average=None)\n",
        "            recall_list[k] = _recalls_\n",
        "\n",
        "            # guardamos precision\n",
        "            _precisions_ = precision_score(y_test, y_test_predicted, average=None)\n",
        "            precision_list[k] = _precisions_\n",
        "\n",
        "            # calculamos la matriz de confusión\n",
        "            _confusion_matrix_ = confusion_matrix(y_test, y_test_predicted)\n",
        "            mlp_cm = confusion_matrix(y_test, y_test_predicted)\n",
        "\n",
        "            # guardamos demás valores: TN, FP, FN, TP\n",
        "            true_negs[k] = _confusion_matrix_[0][0]\n",
        "            false_pos[k] = _confusion_matrix_[0][1]\n",
        "            false_negs[k] = _confusion_matrix_[1][0]\n",
        "            true_pos[k] = _confusion_matrix_[1][1]\n",
        "\n",
        "            # calculamos el auc\n",
        "            _auc_curve_ = roc_auc_score(y_test, y_test_predicted)\n",
        "            # guardamos auc\n",
        "            auc_list[k] = _auc_curve_\n",
        "\n",
        "        # Hacemos la media en el caso de más datasets\n",
        "        metrics['Accuracy'] = np.mean(accuracy_list)\n",
        "        metrics['Precisions'] = np.mean(precision_list, axis=0)\n",
        "        metrics['Recalls'] = np.mean(recall_list, axis=0)\n",
        "        metrics['TN'] = np.mean(true_negs)\n",
        "        metrics['FP'] = np.mean(false_pos)\n",
        "        metrics['FN'] = np.mean(false_negs)\n",
        "        metrics['TP'] = np.mean(true_pos)\n",
        "        metrics['AUC'] = np.mean(auc_list)\n",
        "\n",
        "        # presentamos algunos valores\n",
        "        if verbose:\n",
        "            print('\\t\\t\\tAccuracy:', metrics['Accuracy'])\n",
        "            print('\\t\\t\\tRecall:', metrics['Recalls'])\n",
        "\n",
        "        # guardamos en el diccionario\n",
        "        model_results[model_name] = metrics\n",
        "\n",
        "    # presentamos la matriz de confusión en modo mapa de calor\n",
        "    sns.heatmap(mlp_cm, annot=True,\n",
        "                xticklabels=['Non Bankrupt', 'Bankrupt'],\n",
        "                yticklabels=['Non Bankrupt', 'Bankrupt'])\n",
        "    plt.xlabel('Predicted')\n",
        "    plt.ylabel('True')\n",
        "    plt.show()\n",
        "\n",
        "    return model_results\n"
      ],
      "execution_count": 13,
      "outputs": []
    },
    {
      "cell_type": "markdown",
      "metadata": {
        "id": "YHjQ_ZKOd2MX"
      },
      "source": [
        "## Busqueda y Fit"
      ]
    },
    {
      "cell_type": "code",
      "metadata": {
        "id": "k2MOYmQJ7HU1"
      },
      "source": [
        "X, y = split_features(imputed_df,important_features) "
      ],
      "execution_count": 41,
      "outputs": []
    },
    {
      "cell_type": "code",
      "metadata": {
        "id": "9SztT_vV7HU1"
      },
      "source": [
        "param_ga = {\"kernel\": [\"rbf\", \"sigmoid\", \"linear\"],\n",
        "             \"C\": np.logspace(-2, 2, num=10, base=10),\n",
        "             \"gamma\": np.logspace(-2, 2, num=10, base=10)}"
      ],
      "execution_count": 42,
      "outputs": []
    },
    {
      "cell_type": "code",
      "metadata": {
        "colab": {
          "base_uri": "https://localhost:8080/"
        },
        "id": "dM2XMmwq7HU1",
        "outputId": "6461954e-f919-4626-ca96-c084dd9dd900"
      },
      "source": [
        "# svm + ga\n",
        "cv_svm_ga = GeneticSearchCVMod(estimator=SVC(probability=True),\n",
        "                     params=param_ga,\n",
        "                     scoring=\"recall\",\n",
        "                     cv=2,\n",
        "                     verbose=1,\n",
        "                     population_size=20,\n",
        "                     gene_mutation_prob=0.10,\n",
        "                     gene_crossover_prob=0.5,\n",
        "                     tournament_size=3,\n",
        "                     generations_number=10,\n",
        "                     n_jobs=4)\n",
        "cv_svm_ga.fit(X, y)"
      ],
      "execution_count": 43,
      "outputs": [
        {
          "output_type": "stream",
          "text": [
            "Types [1, 2, 2] and maxint [2, 9, 9] detected\n",
            "--- Evolve in 300 possible combinations ---\n",
            "gen\tnevals\tavg      \tmin\tmax     \tstd      \n",
            "0  \t20    \t0.0434125\t0  \t0.195466\t0.0503428\n",
            "1  \t9     \t0.0843245\t0  \t0.195466\t0.0627155\n",
            "2  \t11    \t0.135009 \t0  \t0.304562\t0.0832256\n",
            "3  \t11    \t0.214104 \t0.113648\t0.304562\t0.0524207\n",
            "4  \t13    \t0.212966 \t0.0545481\t0.304562\t0.0587129\n",
            "5  \t15    \t0.263423 \t0.195466 \t0.331836\t0.0406456\n",
            "6  \t13    \t0.298653 \t0.250013 \t0.331836\t0.0213743\n",
            "7  \t12    \t0.311381 \t0.286382 \t0.331836\t0.0146237\n",
            "8  \t9     \t0.318199 \t0.304562 \t0.331836\t0.013637 \n",
            "9  \t14    \t0.313881 \t0        \t0.331836\t0.0722534\n",
            "10 \t11    \t0.331836 \t0.331836 \t0.331836\t0        \n",
            "Best individual is: {'kernel': 'rbf', 'C': 100.0, 'gamma': 0.027825594022071243}\n",
            "with fitness: 0.3318361796584409\n"
          ],
          "name": "stdout"
        }
      ]
    },
    {
      "cell_type": "code",
      "metadata": {
        "colab": {
          "base_uri": "https://localhost:8080/"
        },
        "id": "gG1Prr8YuhD4",
        "outputId": "68a68690-895d-4c7b-c394-491e794557b3"
      },
      "source": [
        "# guardamos los grid-searchs para ahorrar tiempo en futuras ejecuciones\n",
        "joblib.dump(cv_svm_ga, os.path.join('modelos','Modelo_GA_SVM_Dep.pkl'))"
      ],
      "execution_count": 46,
      "outputs": [
        {
          "output_type": "execute_result",
          "data": {
            "text/plain": [
              "['modelos/Modelo_GA_SVM_Dep.pkl']"
            ]
          },
          "metadata": {
            "tags": []
          },
          "execution_count": 46
        }
      ]
    },
    {
      "cell_type": "code",
      "metadata": {
        "colab": {
          "base_uri": "https://localhost:8080/",
          "height": 531
        },
        "id": "ghUSxJuV7HU2",
        "outputId": "53f2edbc-6a2d-428d-db8d-3d5ea5456a17"
      },
      "source": [
        "svm = cv_svm_ga.best_estimator_\n",
        "models_dictionary2 = OrderedDict()\n",
        "models_dictionary2['SVM'] = svm\n",
        "\n",
        "# Cross validación con 5 sets\n",
        "results2 = perform_data_modeling(models_dictionary2, imputed_df, verbose=True, k_folds=5)"
      ],
      "execution_count": 47,
      "outputs": [
        {
          "output_type": "stream",
          "text": [
            "------------------------------------------------------------------------------------------------------------------------ \n",
            " Model: \u001b[1mSVM\u001b[0m Classifier\n",
            "\t\tDataset: \u001b[1m1year\u001b[0m\n",
            "[[1290   26]\n",
            " [  30   18]]\n",
            "[[1228   34]\n",
            " [  92   10]]\n",
            "[[1312   37]\n",
            " [   8    7]]\n",
            "[[1298   36]\n",
            " [  22    8]]\n",
            "[[1308   30]\n",
            " [  11   14]]\n",
            "\t\t\tAccuracy: 0.9521950028292775\n",
            "\t\t\tRecall: [0.97530177 0.25909091]\n"
          ],
          "name": "stdout"
        },
        {
          "output_type": "display_data",
          "data": {
            "image/png": "[encoded data removed]",
            "text/plain": [
              "<Figure size 432x288 with 2 Axes>"
            ]
          },
          "metadata": {
            "tags": [],
            "needs_background": "light"
          }
        }
      ]
    },
    {
      "cell_type": "code",
      "metadata": {
        "id": "3tNXa4YMdlwI"
      },
      "source": [
        ""
      ],
      "execution_count": null,
      "outputs": []
    },
    {
      "cell_type": "markdown",
      "metadata": {
        "id": "3IypTlk_dmIX"
      },
      "source": [
        "## Evaluation"
      ]
    },
    {
      "cell_type": "code",
      "metadata": {
        "id": "sFs-j1ukdisv"
      },
      "source": [
        "def save_and_show_resultados(descripcion, model, resultados, X_train, X_test, y_train, y_test):\n",
        "  y_train_pred = model.predict(X_train)\n",
        "  y_train_pred_proba = model.predict_proba(X_train)[:,1]\n",
        "\n",
        "  y_test_pred = model.predict(X_test)\n",
        "  y_test_pred_proba = model.predict_proba(X_test)[:,1]\n",
        "\n",
        "  confusion_matrix_train = confusion_matrix(y_train, y_train_pred)\n",
        "  confusion_matrix_test = confusion_matrix(y_test, y_test_pred)\n",
        "\n",
        "  resultados.update( { descripcion: {\n",
        "      ('Entrenamiento', 'Exactitud'): model.score(X_train, y_train),\n",
        "      ('Entrenamiento', 'F1'): f1_score(y_train, y_train_pred),\n",
        "      ('Entrenamiento', 'AUC'): roc_auc_score(y_train, y_train_pred_proba),\n",
        "      ('Entrenamiento', 'TypeI'): confusion_matrix_train[0][1],\n",
        "      ('Pruebas', 'Exactitud'): model.score(X_test, y_test),\n",
        "      ('Pruebas', 'F1'): f1_score(y_test, y_test_pred),\n",
        "      ('Pruebas', 'AUC'): roc_auc_score(y_test, y_test_pred_proba),\n",
        "      ('Pruebas', 'TypeI'): confusion_matrix_test[0][1]\n",
        "    } } )\n",
        "  fig, axes = plt.subplots(1, 3, figsize=(18, 5))\n",
        "  fig.suptitle(f'{descripcion} (Conjunto de Pruebas)')\n",
        "  plot_confusion_matrix(model, X_test, y_test, ax=axes[0], values_format='d')\n",
        "  plot_roc_curve(model, X_test, y_test, ax=axes[1], name=descripcion)\n",
        "  plot_precision_recall_curve(model, X_test, y_test, ax=axes[2], name=descripcion)\n",
        "  return"
      ],
      "execution_count": 48,
      "outputs": []
    },
    {
      "cell_type": "code",
      "metadata": {
        "id": "EJeG7jV9S7fJ"
      },
      "source": [
        "# hacemos la division del dataframe en variables y etiquetas\n",
        "X, y = split_features(imputed_df,important_features)\n",
        "\n",
        "# Dividimos la data en test y train\n",
        "X_train, X_test, y_train, y_test = train_test_split(X, y, \\\n",
        "            stratify = y,test_size = 0.2,random_state=1)"
      ],
      "execution_count": 49,
      "outputs": []
    },
    {
      "cell_type": "code",
      "metadata": {
        "colab": {
          "base_uri": "https://localhost:8080/",
          "height": 370
        },
        "id": "ci_6uN4zStuJ",
        "outputId": "c048cb61-002f-4deb-c33c-1328492dab21"
      },
      "source": [
        "resultados = {}\n",
        "save_and_show_resultados('SVM+GA [70 features]', svm, resultados, X_train, X_test, y_train, y_test)"
      ],
      "execution_count": 53,
      "outputs": [
        {
          "output_type": "display_data",
          "data": {
            "image/png": "[encoded data removed]",
            "text/plain": [
              "<Figure size 1296x360 with 4 Axes>"
            ]
          },
          "metadata": {
            "tags": [],
            "needs_background": "light"
          }
        }
      ]
    }
  ]
}