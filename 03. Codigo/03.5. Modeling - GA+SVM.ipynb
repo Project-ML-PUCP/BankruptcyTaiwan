{
  "nbformat": 4,
  "nbformat_minor": 0,
  "metadata": {
    "colab": {
      "name": "03.5. Modeling - GA+SVM.ipynb",
      "provenance": [],
      "collapsed_sections": []
    },
    "kernelspec": {
      "name": "python3",
      "display_name": "Python 3.8.6 64-bit"
    },
    "language_info": {
      "name": "python",
      "version": "3.8.6"
    },
    "interpreter": {
      "hash": "a6974f591a6cacf7a81ec2d11a96a55a57f0f00ff64e51bda44c50474fd6653c"
    }
  },
  "cells": [
    {
      "cell_type": "markdown",
      "metadata": {
        "id": "eJ0hxe84psVf"
      },
      "source": [
        "## Importacion de librerias"
      ]
    },
    {
      "cell_type": "code",
      "metadata": {
        "id": "VgSt9f0AY6TQ"
      },
      "source": [
        "ga_update = 1"
      ],
      "execution_count": 1,
      "outputs": []
    },
    {
      "cell_type": "code",
      "metadata": {
        "colab": {
          "base_uri": "https://localhost:8080/"
        },
        "id": "B8PHL0mSRImM",
        "outputId": "5d0855bd-6f93-4646-a798-e5c675649941"
      },
      "source": [
        "if ga_update:\n",
        "  !pip install deap\n",
        "  !pip install --upgrade scikit-learn==0.23.2\n",
        "  !git clone https://github.com/senolakkas/sklearn-optimize\n",
        "  !mv sklearn-optimize/ sklearn_genetic/"
      ],
      "execution_count": 2,
      "outputs": [
        {
          "output_type": "stream",
          "text": [
            "Collecting deap\n",
            "\u001b[?25l  Downloading https://files.pythonhosted.org/packages/99/d1/803c7a387d8a7e6866160b1541307f88d534da4291572fb32f69d2548afb/deap-1.3.1-cp37-cp37m-manylinux2010_x86_64.whl (157kB)\n",
            "\r\u001b[K     |██                              | 10kB 11.7MB/s eta 0:00:01\r\u001b[K     |████▏                           | 20kB 13.5MB/s eta 0:00:01\r\u001b[K     |██████▏                         | 30kB 9.5MB/s eta 0:00:01\r\u001b[K     |████████▎                       | 40kB 8.5MB/s eta 0:00:01\r\u001b[K     |██████████▍                     | 51kB 5.2MB/s eta 0:00:01\r\u001b[K     |████████████▍                   | 61kB 5.7MB/s eta 0:00:01\r\u001b[K     |██████████████▌                 | 71kB 5.9MB/s eta 0:00:01\r\u001b[K     |████████████████▋               | 81kB 6.3MB/s eta 0:00:01\r\u001b[K     |██████████████████▋             | 92kB 6.1MB/s eta 0:00:01\r\u001b[K     |████████████████████▊           | 102kB 5.3MB/s eta 0:00:01\r\u001b[K     |██████████████████████▉         | 112kB 5.3MB/s eta 0:00:01\r\u001b[K     |████████████████████████▉       | 122kB 5.3MB/s eta 0:00:01\r\u001b[K     |███████████████████████████     | 133kB 5.3MB/s eta 0:00:01\r\u001b[K     |█████████████████████████████   | 143kB 5.3MB/s eta 0:00:01\r\u001b[K     |███████████████████████████████ | 153kB 5.3MB/s eta 0:00:01\r\u001b[K     |████████████████████████████████| 163kB 5.3MB/s \n",
            "\u001b[?25hRequirement already satisfied: numpy in /usr/local/lib/python3.7/dist-packages (from deap) (1.19.5)\n",
            "Installing collected packages: deap\n",
            "Successfully installed deap-1.3.1\n",
            "Collecting scikit-learn==0.23.2\n",
            "\u001b[?25l  Downloading https://files.pythonhosted.org/packages/f4/cb/64623369f348e9bfb29ff898a57ac7c91ed4921f228e9726546614d63ccb/scikit_learn-0.23.2-cp37-cp37m-manylinux1_x86_64.whl (6.8MB)\n",
            "\u001b[K     |████████████████████████████████| 6.8MB 5.1MB/s \n",
            "\u001b[?25hRequirement already satisfied, skipping upgrade: numpy>=1.13.3 in /usr/local/lib/python3.7/dist-packages (from scikit-learn==0.23.2) (1.19.5)\n",
            "Requirement already satisfied, skipping upgrade: joblib>=0.11 in /usr/local/lib/python3.7/dist-packages (from scikit-learn==0.23.2) (1.0.1)\n",
            "Collecting threadpoolctl>=2.0.0\n",
            "  Downloading https://files.pythonhosted.org/packages/f7/12/ec3f2e203afa394a149911729357aa48affc59c20e2c1c8297a60f33f133/threadpoolctl-2.1.0-py3-none-any.whl\n",
            "Requirement already satisfied, skipping upgrade: scipy>=0.19.1 in /usr/local/lib/python3.7/dist-packages (from scikit-learn==0.23.2) (1.4.1)\n",
            "Installing collected packages: threadpoolctl, scikit-learn\n",
            "  Found existing installation: scikit-learn 0.22.2.post1\n",
            "    Uninstalling scikit-learn-0.22.2.post1:\n",
            "      Successfully uninstalled scikit-learn-0.22.2.post1\n",
            "Successfully installed scikit-learn-0.23.2 threadpoolctl-2.1.0\n",
            "Cloning into 'sklearn-optimize'...\n",
            "remote: Enumerating objects: 29, done.\u001b[K\n",
            "remote: Total 29 (delta 0), reused 0 (delta 0), pack-reused 29\u001b[K\n",
            "Unpacking objects: 100% (29/29), done.\n"
          ],
          "name": "stdout"
        }
      ]
    },
    {
      "cell_type": "code",
      "metadata": {
        "id": "9ecVSwJDWhU9",
        "colab": {
          "base_uri": "https://localhost:8080/"
        },
        "outputId": "75f2764e-1bb2-45d9-eea7-308b1888d7cc"
      },
      "source": [
        "import os\n",
        "import numpy as np\n",
        "import pandas as pd\n",
        "from sklearn.impute import SimpleImputer\n",
        "from sklearn.model_selection import StratifiedKFold\n",
        "from scipy.io import arff\n",
        "import random\n",
        "from collections import OrderedDict\n",
        "import seaborn as sns\n",
        "from sklearn.metrics import accuracy_score\n",
        "from sklearn.metrics import precision_score\n",
        "from sklearn.metrics import recall_score\n",
        "from sklearn.metrics import f1_score\n",
        "from sklearn.metrics import confusion_matrix\n",
        "from sklearn.metrics import plot_confusion_matrix\n",
        "from sklearn.metrics import plot_roc_curve\n",
        "from sklearn.metrics import roc_curve, roc_auc_score\n",
        "from sklearn.metrics import plot_precision_recall_curve\n",
        "\n",
        "from deap import base, creator, tools, algorithms\n",
        "from sklearn.base import clone, is_classifier\n",
        "\n",
        "from sklearn.svm import SVC\n",
        "from sklearn.model_selection import GridSearchCV\n",
        "from sklearn.model_selection import StratifiedKFold\n",
        "\n",
        "## sklearn-optimize es tomado de: https://github.com/senolakkas/sklearn-optimize\n",
        "from sklearn_genetic.genetic import GeneticSearchCV\n",
        "\n",
        "import joblib\n",
        "\n",
        "import matplotlib.pyplot as plt\n",
        "from matplotlib.backends.backend_pdf import PdfPages\n",
        "from sklearn.metrics import confusion_matrix\n",
        "from tabulate import tabulate\n",
        "import warnings\n",
        "warnings.filterwarnings('ignore')"
      ],
      "execution_count": 3,
      "outputs": [
        {
          "output_type": "stream",
          "text": [
            "/usr/local/lib/python3.7/dist-packages/sklearn/utils/deprecation.py:143: FutureWarning: The sklearn.metrics.scorer module is  deprecated in version 0.22 and will be removed in version 0.24. The corresponding classes / functions should instead be imported from sklearn.metrics. Anything that cannot be imported from sklearn.metrics is now part of the private API.\n",
            "  warnings.warn(message, FutureWarning)\n"
          ],
          "name": "stderr"
        }
      ]
    },
    {
      "cell_type": "markdown",
      "metadata": {
        "id": "JUGqjhlkpvmI"
      },
      "source": [
        "## Leer dataset imputado"
      ]
    },
    {
      "cell_type": "code",
      "metadata": {
        "id": "gt--EGyT_BnS"
      },
      "source": [
        "# se carga dataset imputado\n",
        "median_imputed_df = pd.read_pickle('dataset_normalizado.pkl')"
      ],
      "execution_count": 5,
      "outputs": []
    },
    {
      "cell_type": "code",
      "metadata": {
        "id": "Ni_j9Az_7hcT"
      },
      "source": [
        "# función para separar las columnas en variables y etiquetas ('flag')\n",
        "def split_features_labels(df):\n",
        "    feature_dfs = df.iloc[:, :-1]\n",
        "    label_dfs = df['flag']\n",
        "    return feature_dfs, label_dfs"
      ],
      "execution_count": 6,
      "outputs": []
    },
    {
      "cell_type": "markdown",
      "metadata": {
        "id": "lAQVEOBL_BnT"
      },
      "source": [
        "## Estrategia de validacion"
      ]
    },
    {
      "cell_type": "code",
      "metadata": {
        "id": "nh9qnE40_BnT"
      },
      "source": [
        "# Validación cruzada mediante K-fold estratificado\n",
        "def kfold_cv(k, X, y, verbose=False):\n",
        "    X = X.values  # Variables\n",
        "    y = y.values  # Etiquetas\n",
        "    kf = StratifiedKFold(n_splits=k, shuffle=False, random_state=42)\n",
        "    # inicializamos los sets vacios\n",
        "    X_train = [] \n",
        "    y_train = []\n",
        "    X_test = []\n",
        "    y_test = []\n",
        "    # usamos el split \n",
        "    for train_index, test_index in kf.split(X,y):\n",
        "        X_train.append(X[train_index])\n",
        "        y_train.append(y[train_index])\n",
        "        X_test.append(X[test_index])\n",
        "        y_test.append(y[test_index])\n",
        "    return X_train, y_train, X_test, y_test\n",
        "# seteamos la semilla para tener valores random predecibles\n",
        "seed = 7"
      ],
      "execution_count": 7,
      "outputs": []
    },
    {
      "cell_type": "code",
      "metadata": {
        "id": "9565_iNN_BnU"
      },
      "source": [
        "# Modelamiento de la data usando un diccionario de datasets y modelos\n",
        "def perform_data_modeling(_models_, imputed_df, verbose=False, k_folds=5):\n",
        "    # 7 metricas, usando K-Folds\n",
        "    # en model_results guardaremos los resultados por clasificador y datasets\n",
        "    model_results = OrderedDict()\n",
        "\n",
        "    # Iteramos sobre los clasificadores\n",
        "    for model_name, clf in _models_.items():\n",
        "        if verbose: print(\"-\" * 120, \"\\n\", \"Model: \" + '\\033[1m' + model_name + '\\033[0m' + \" Classifier\")\n",
        "        imputer_results = OrderedDict()\n",
        "\n",
        "        # hacemos la division del dataframe en variables y etiquetas\n",
        "        features_df, labels_df = split_features_labels(imputed_df)\n",
        "\n",
        "        df_index = 0\n",
        "        if verbose: print('\\t\\tDataset: ' + '\\033[1m' + str(df_index + 1) + 'year' + '\\033[0m')\n",
        "        # Ejecutamos la validación cruzada K-fold en los sets de entranamiento y test\n",
        "        X_train_list, y_train_list, X_test_list, y_test_list = kfold_cv(k_folds, features_df, labels_df, verbose)\n",
        "\n",
        "        metrics = OrderedDict()\n",
        "\n",
        "        # incializamos las metricas a guardar\n",
        "        accuracy_list = np.zeros([k_folds])\n",
        "        precision_list = np.zeros([k_folds, 2])\n",
        "        recall_list = np.zeros([k_folds, 2])\n",
        "        true_negs = np.zeros([k_folds])\n",
        "        false_pos = np.zeros([k_folds])\n",
        "        false_negs = np.zeros([k_folds])\n",
        "        true_pos = np.zeros([k_folds])\n",
        "        auc_list = np.zeros([k_folds])\n",
        "\n",
        "        # Iteramos sobre los k-folds para el cálculo de las métricas\n",
        "        for k in range(k_folds):\n",
        "            X_train = X_train_list[k]\n",
        "            y_train = y_train_list[k]\n",
        "            X_test = X_test_list[k]\n",
        "            y_test = y_test_list[k]\n",
        "\n",
        "            # Fit del modelo \n",
        "            clf = clf.fit(X_train, y_train)\n",
        "            # y predicción en el set de test\n",
        "            y_test_predicted = clf.predict(X_test)\n",
        "            # presentamos la matriz de confusión\n",
        "            print(confusion_matrix(y_test_predicted, y_test))\n",
        "\n",
        "            # guardamos accuracy y recall\n",
        "            _accuracy_ = accuracy_score(y_test, y_test_predicted, normalize=True)\n",
        "            accuracy_list[k] = _accuracy_\n",
        "            _recalls_ = recall_score(y_test, y_test_predicted, average=None)\n",
        "            recall_list[k] = _recalls_\n",
        "\n",
        "            # guardamos precision\n",
        "            _precisions_ = precision_score(y_test, y_test_predicted, average=None)\n",
        "            precision_list[k] = _precisions_\n",
        "\n",
        "            # calculamos la matriz de confusión\n",
        "            _confusion_matrix_ = confusion_matrix(y_test, y_test_predicted)\n",
        "            mlp_cm = confusion_matrix(y_test, y_test_predicted)\n",
        "\n",
        "            # calculamos el auc\n",
        "            _auc_curve_ = roc_auc_score(y_test, y_test_predicted)\n",
        "\n",
        "            # guardamos demás valores: TN, FP, FN, TP\n",
        "            true_negs[k] = _confusion_matrix_[0][0]\n",
        "            false_pos[k] = _confusion_matrix_[0][1]\n",
        "            false_negs[k] = _confusion_matrix_[1][0]\n",
        "            true_pos[k] = _confusion_matrix_[1][1]\n",
        "\n",
        "            # guardamos roc\n",
        "            auc_list[k] = _auc_curve_\n",
        "\n",
        "        # Hacemos la media en el caso de más datasets\n",
        "        metrics['Accuracy'] = np.mean(accuracy_list)\n",
        "        metrics['Precisions'] = np.mean(precision_list, axis=0)\n",
        "        metrics['Recalls'] = np.mean(recall_list, axis=0)\n",
        "        metrics['TN'] = np.mean(true_negs)\n",
        "        metrics['FP'] = np.mean(false_pos)\n",
        "        metrics['FN'] = np.mean(false_negs)\n",
        "        metrics['TP'] = np.mean(true_pos)\n",
        "        metrics['AUC'] = np.mean(auc_list)\n",
        "\n",
        "        # presentamos algunos valores\n",
        "        if verbose:\n",
        "            print('\\t\\t\\tAccuracy:', metrics['Accuracy'])\n",
        "            print('\\t\\t\\tRecall:', metrics['Recalls'])\n",
        "\n",
        "        # guardamos en el diccionario\n",
        "        model_results[model_name] = metrics\n",
        "\n",
        "    # presentamos la matriz de confusión en modo mapa de calor\n",
        "    sns.heatmap(mlp_cm, annot=True,\n",
        "                xticklabels=['Non Bankrupt', 'Bankrupt'],\n",
        "                yticklabels=['Non Bankrupt', 'Bankrupt'])\n",
        "    plt.xlabel('Predicted')\n",
        "    plt.ylabel('True')\n",
        "    plt.show()\n",
        "\n",
        "    return model_results\n"
      ],
      "execution_count": 8,
      "outputs": []
    },
    {
      "cell_type": "code",
      "metadata": {
        "id": "s0qFWcxF_BnY"
      },
      "source": [
        "# Hacer ranking por cada métrica\n",
        "def perform_model_ranking_acc(models, imputers, results):\n",
        "    column_headers = ['-','Accuracy'] \n",
        "    rows = []\n",
        "    for model_name, model_details in results.items():\n",
        "        row = [model_name]\n",
        "        row.append(model_details['Accuracy'])\n",
        "        rows.append(row)\n",
        "    results_df = pd.DataFrame(data=rows, columns = column_headers)\n",
        "    return results_df\n",
        "\n",
        "def perform_model_ranking_f1score(models, imputers, results):\n",
        "    column_headers = ['-','F1-score']\n",
        "    rows = []\n",
        "    for model_name, model_details in results.items():\n",
        "        row = [model_name]\n",
        "        recall = model_details['Recalls']\n",
        "        precision = model_details['Precisions']\n",
        "        f1score = 2*(recall*precision)/(recall+precision)\n",
        "        row.append(f1score)\n",
        "        rows.append(row)\n",
        "    results_df = pd.DataFrame(data=rows, columns = column_headers)\n",
        "    return results_df\n",
        "\n",
        "def perform_model_ranking_auc(models, imputers, results):\n",
        "    column_headers = ['-','AUC']\n",
        "    rows = []\n",
        "    for model_name, model_details in results.items():\n",
        "        row = [model_name]\n",
        "        row.append(model_details['AUC'])\n",
        "        rows.append(row)\n",
        "    results_df = pd.DataFrame(data=rows, columns = column_headers)\n",
        "    return results_df\n",
        "\n",
        "def perform_model_ranking_typeI(models, imputers, results):\n",
        "    column_headers = ['-','FP']\n",
        "    rows = []\n",
        "    for model_name, model_details in results.items():\n",
        "        row = [model_name]\n",
        "        row.append(model_details['FP'])\n",
        "        rows.append(row)\n",
        "    results_df = pd.DataFrame(data=rows, columns = column_headers)\n",
        "    return results_df"
      ],
      "execution_count": 9,
      "outputs": []
    },
    {
      "cell_type": "markdown",
      "metadata": {
        "id": "Zt6qKPAM_Bnb"
      },
      "source": [
        "## Modelos SVM y SVM+GA"
      ]
    },
    {
      "cell_type": "markdown",
      "metadata": {
        "id": "LYzDXBSY_Bnb"
      },
      "source": [
        "**Hyperparámetros para ajuste**"
      ]
    },
    {
      "cell_type": "code",
      "metadata": {
        "id": "00SjM7yO_Bnb"
      },
      "source": [
        "param = {'kernel': ['rbf'],\n",
        "          'C': [0, 100], \n",
        "          'gamma': [0.01, 0.001]}\n",
        "param_ga = {\"kernel\": [\"rbf\", \"sigmoid\", \"linear\"],\n",
        "             \"C\": np.logspace(-2, 2, num=10, base=10),\n",
        "             \"gamma\": np.logspace(-2, 2, num=10, base=10)}"
      ],
      "execution_count": 10,
      "outputs": []
    },
    {
      "cell_type": "markdown",
      "metadata": {
        "id": "sdzS_ayl_Bnc"
      },
      "source": [
        "**Separamos las variables y etiquetas**"
      ]
    },
    {
      "cell_type": "code",
      "metadata": {
        "id": "9ZwjJR6z_Bnc"
      },
      "source": [
        "X, y = split_features_labels(median_imputed_df) "
      ],
      "execution_count": 11,
      "outputs": []
    },
    {
      "cell_type": "markdown",
      "metadata": {
        "id": "D31sb-55_Bnc"
      },
      "source": [
        "**Ahora se hará la búsqueda, si no desea esperar poner 'load' a 1!**"
      ]
    },
    {
      "cell_type": "code",
      "metadata": {
        "id": "BWOROWMg_Bnc"
      },
      "source": [
        "load = 0"
      ],
      "execution_count": 12,
      "outputs": []
    },
    {
      "cell_type": "code",
      "metadata": {
        "id": "yoSJly8V_Bnd"
      },
      "source": [
        "# svm búsqueda simple\n",
        "cv_svm = GridSearchCV(estimator=SVC(probability=True), \n",
        "                      param_grid=param,\n",
        "                      scoring=\"accuracy\",\n",
        "                      cv=5)\n",
        "if load==0:\n",
        "  cv_svm.fit(X, y)"
      ],
      "execution_count": 13,
      "outputs": []
    },
    {
      "cell_type": "code",
      "metadata": {
        "id": "82BxIvose0sQ",
        "colab": {
          "base_uri": "https://localhost:8080/"
        },
        "outputId": "5851165b-5d14-473e-f6cc-e10f0571cc0a"
      },
      "source": [
        "cv_svm.best_estimator_"
      ],
      "execution_count": 14,
      "outputs": [
        {
          "output_type": "execute_result",
          "data": {
            "text/plain": [
              "SVC(C=100, gamma=0.001, probability=True)"
            ]
          },
          "metadata": {
            "tags": []
          },
          "execution_count": 14
        }
      ]
    },
    {
      "cell_type": "code",
      "metadata": {
        "id": "oAU6L5yh_Bnd"
      },
      "source": [
        "# GeneticSearchCV modificado\n",
        "class GeneticSearchCVMod(GeneticSearchCV):\n",
        "     def __init__(self, estimator, params, scoring=None, cv=4,\n",
        "                 refit=True, verbose=False, population_size=50,\n",
        "                 gene_mutation_prob=0.1, gene_crossover_prob=0.5,\n",
        "                 tournament_size=3, generations_number=10, gene_type=None,\n",
        "                 n_jobs=1, iid=True, error_score='raise',\n",
        "                 fit_params={}):\n",
        "        super(GeneticSearchCV, self).__init__(\n",
        "            estimator=estimator, scoring=scoring,\n",
        "            iid=iid, refit=refit, cv=cv, verbose=verbose,\n",
        "            error_score=error_score)\n",
        "        self.fit_params=fit_params\n",
        "        self.params = params\n",
        "        self.population_size = population_size\n",
        "        self.generations_number = generations_number\n",
        "        self._individual_evals = {}\n",
        "        self.gene_mutation_prob = gene_mutation_prob\n",
        "        self.gene_crossover_prob = gene_crossover_prob\n",
        "        self.tournament_size = tournament_size\n",
        "        self.gene_type = gene_type\n",
        "        self.all_history_, self.all_logbooks_ = [], []\n",
        "        self._cv_results = None\n",
        "        self.best_score_ = None\n",
        "        self.best_params_ = None\n",
        "        self.score_cache = {}\n",
        "        self.n_jobs = n_jobs\n",
        "        creator.create(\"FitnessMax\", base.Fitness, weights=(1.0,))\n",
        "        creator.create(\"Individual\", list, est=clone(self.estimator), fitness=creator.FitnessMax)"
      ],
      "execution_count": 15,
      "outputs": []
    },
    {
      "cell_type": "code",
      "metadata": {
        "colab": {
          "base_uri": "https://localhost:8080/"
        },
        "id": "u0TInA09_Bnd",
        "outputId": "00f0bef9-661a-472c-b5c8-30887373a67c"
      },
      "source": [
        "# svm + ga\n",
        "cv_svm_ga = GeneticSearchCVMod(estimator=SVC(probability=True),\n",
        "                     params=param_ga,\n",
        "                     scoring=\"recall\",\n",
        "                     cv=StratifiedKFold(n_splits=4),\n",
        "                     verbose=1,\n",
        "                     population_size=20,\n",
        "                     gene_mutation_prob=0.10,\n",
        "                     gene_crossover_prob=0.5,\n",
        "                     tournament_size=3,\n",
        "                     generations_number=5,\n",
        "                     n_jobs=4)\n",
        "if load == 0:\n",
        "  cv_svm_ga.fit(X, y)"
      ],
      "execution_count": 16,
      "outputs": [
        {
          "output_type": "stream",
          "text": [
            "Types [1, 2, 2] and maxint [2, 9, 9] detected\n",
            "--- Evolve in 300 possible combinations ---\n",
            "gen\tnevals\tavg      \tmin\tmax     \tstd      \n",
            "0  \t20    \t0.0463646\t0  \t0.199989\t0.0509942\n",
            "1  \t12    \t0.086137 \t0  \t0.199989\t0.0582341\n",
            "2  \t12    \t0.13     \t0  \t0.199989\t0.0574257\n",
            "3  \t9     \t0.168858 \t0.0863603\t0.200005\t0.0447933\n",
            "4  \t18    \t0.186128 \t0.0863603\t0.200005\t0.0336034\n",
            "5  \t7     \t0.181362 \t0.0545481\t0.200005\t0.0447417\n",
            "Best individual is: {'kernel': 'rbf', 'C': 12.915496650148826, 'gamma': 0.027825594022071243}\n",
            "with fitness: 0.20000533269341011\n"
          ],
          "name": "stdout"
        }
      ]
    },
    {
      "cell_type": "code",
      "metadata": {
        "colab": {
          "base_uri": "https://localhost:8080/"
        },
        "id": "0E_BSp6S_Bng",
        "outputId": "ed76a5d7-4abd-401d-c7ba-695aba13fef9"
      },
      "source": [
        "# guardamos los grid-searchs para ahorrar tiempo en futuras ejecuciones\n",
        "joblib.dump(cv_svm, 'Modelo_SVM.pkl')\n",
        "joblib.dump(cv_svm_ga, 'Modelo_GA_SVM.pkl')"
      ],
      "execution_count": 17,
      "outputs": [
        {
          "output_type": "execute_result",
          "data": {
            "text/plain": [
              "['Modelo_GA_SVM.pkl']"
            ]
          },
          "metadata": {
            "tags": []
          },
          "execution_count": 17
        }
      ]
    },
    {
      "cell_type": "code",
      "metadata": {
        "id": "qa5xDNL1_Bng"
      },
      "source": [
        "# cargamos los grid-searchs guardados\n",
        "cv_svm = joblib.load('Modelo_SVM.pkl')\n",
        "cs_svm_ga = joblib.load('Modelo_GA_SVM.pkl')"
      ],
      "execution_count": 18,
      "outputs": []
    },
    {
      "cell_type": "code",
      "metadata": {
        "colab": {
          "base_uri": "https://localhost:8080/"
        },
        "id": "ZKg1xRI8_Bnh",
        "outputId": "58b62e4f-2990-489f-ebd4-9a5a45fbfd7d"
      },
      "source": [
        "cs_svm_ga.best_estimator_"
      ],
      "execution_count": 19,
      "outputs": [
        {
          "output_type": "execute_result",
          "data": {
            "text/plain": [
              "SVC(C=12.915496650148826, gamma=0.027825594022071243, probability=True)"
            ]
          },
          "metadata": {
            "tags": []
          },
          "execution_count": 19
        }
      ]
    },
    {
      "cell_type": "code",
      "metadata": {
        "id": "R3MAbxmT_Bnh"
      },
      "source": [
        "svm = cv_svm.best_estimator_\n",
        "svm_ga = cs_svm_ga.best_estimator_\n",
        "models_dictionary2 = OrderedDict()\n",
        "models_dictionary2['SVM'] = svm\n",
        "models_dictionary2['SVM+GA'] = svm_ga"
      ],
      "execution_count": 20,
      "outputs": []
    },
    {
      "cell_type": "code",
      "metadata": {
        "colab": {
          "base_uri": "https://localhost:8080/",
          "height": 783
        },
        "id": "qsdoGe_3_Bnh",
        "outputId": "3232c38e-f7c1-4fb5-fdac-172bb093a08c"
      },
      "source": [
        "# Cross validación con 5 sets\n",
        "results2 = perform_data_modeling(models_dictionary2, median_imputed_df, verbose=True, k_folds=5)"
      ],
      "execution_count": 21,
      "outputs": [
        {
          "output_type": "stream",
          "text": [
            "------------------------------------------------------------------------------------------------------------------------ \n",
            " Model: \u001b[1mSVM\u001b[0m Classifier\n",
            "\t\tDataset: \u001b[1m1year\u001b[0m\n",
            "[[1318   43]\n",
            " [   2    1]]\n",
            "[[1262   42]\n",
            " [  58    2]]\n",
            "[[1319   41]\n",
            " [   1    3]]\n",
            "[[1319   38]\n",
            " [   1    6]]\n",
            "[[1318   39]\n",
            " [   1    5]]\n",
            "\t\t\tAccuracy: 0.9609927643653059\n",
            "\t\t\tRecall: [0.99045443 0.07727273]\n",
            "------------------------------------------------------------------------------------------------------------------------ \n",
            " Model: \u001b[1mSVM+GA\u001b[0m Classifier\n",
            "\t\tDataset: \u001b[1m1year\u001b[0m\n",
            "[[1284   31]\n",
            " [  36   13]]\n",
            "[[1238   39]\n",
            " [  82    5]]\n",
            "[[1315   38]\n",
            " [   5    6]]\n",
            "[[1308   35]\n",
            " [  12    9]]\n",
            "[[1313   37]\n",
            " [   6    7]]\n",
            "\t\t\tAccuracy: 0.9529279255050207\n",
            "\t\t\tRecall: [0.97863567 0.18181818]\n"
          ],
          "name": "stdout"
        },
        {
          "output_type": "display_data",
          "data": {
            "image/png": "[encoded data removed]",
            "text/plain": [
              "<Figure size 432x288 with 2 Axes>"
            ]
          },
          "metadata": {
            "tags": [],
            "needs_background": "light"
          }
        }
      ]
    },
    {
      "cell_type": "code",
      "metadata": {
        "colab": {
          "base_uri": "https://localhost:8080/"
        },
        "id": "Mdn2CEYP_Bnh",
        "outputId": "a0b6f706-12f4-44c6-9300-082764eacbf4"
      },
      "source": [
        "print(perform_model_ranking_acc(models_dictionary2, median_imputed_df, results2))\n",
        "print(perform_model_ranking_f1score(models_dictionary2, median_imputed_df, results2))\n",
        "print(perform_model_ranking_auc(models_dictionary2, median_imputed_df, results2))\n",
        "print(perform_model_ranking_typeI(models_dictionary2, median_imputed_df, results2))"
      ],
      "execution_count": 22,
      "outputs": [
        {
          "output_type": "stream",
          "text": [
            "        -  Accuracy\n",
            "0     SVM  0.960993\n",
            "1  SVM+GA  0.952928\n",
            "        -                                   F1-score\n",
            "0     SVM  [0.9800497632444028, 0.13584790565270435]\n",
            "1  SVM+GA   [0.975742441527818, 0.24317876430269617]\n",
            "        -       AUC\n",
            "0     SVM  0.533864\n",
            "1  SVM+GA  0.580227\n",
            "        -    FP\n",
            "0     SVM  12.6\n",
            "1  SVM+GA  28.2\n"
          ],
          "name": "stdout"
        }
      ]
    },
    {
      "cell_type": "code",
      "metadata": {
        "id": "SV2iRNdZNX7L"
      },
      "source": [
        "def update_resultados(descripcion, model, resultados, X_train, X_test, y_train, y_test):\n",
        "  y_train_pred = model.predict(X_train)\n",
        "  y_train_pred_proba = model.predict_proba(X_train)[:,1]\n",
        "\n",
        "  y_test_pred = model.predict(X_test)\n",
        "  y_test_pred_proba = model.predict_proba(X_test)[:,1]\n",
        "\n",
        "  resultados.update( { descripcion: {\n",
        "      ('Entrenamiento', 'Exactitud'): model.score(X_train, y_train),\n",
        "      ('Entrenamiento', 'Precisión'): precision_score(y_train, y_train_pred, zero_division=0),\n",
        "      ('Entrenamiento', 'Exhaustividad'): recall_score(y_train, y_train_pred),\n",
        "      ('Entrenamiento', 'F1'): f1_score(y_train, y_train_pred),\n",
        "      ('Entrenamiento', 'AUC'): roc_auc_score(y_train, y_train_pred_proba),\n",
        "      ('Pruebas', 'Exactitud'): model.score(X_test, y_test),\n",
        "      ('Pruebas', 'Precisión'): precision_score(y_test, y_test_pred, zero_division=0),\n",
        "      ('Pruebas', 'Exhaustividad'): recall_score(y_test, y_test_pred),\n",
        "      ('Pruebas', 'F1'): f1_score(y_test, y_test_pred),\n",
        "      ('Pruebas', 'AUC'): roc_auc_score(y_test, y_test_pred_proba)\n",
        "    } } )\n",
        "  display(pd.DataFrame.from_dict(resultados, orient='index'))\n",
        "\n",
        "  fig, axes = plt.subplots(1, 3, figsize=(18, 5))\n",
        "  fig.suptitle(f'{descripcion} (Conjunto de Pruebas)')\n",
        "  plot_confusion_matrix(model, X_test, y_test, ax=axes[0], values_format='d')\n",
        "  plot_roc_curve(model, X_test, y_test, ax=axes[1], name=descripcion)\n",
        "  plot_precision_recall_curve(model, X_test, y_test, ax=axes[2], name=descripcion)\n",
        "  return"
      ],
      "execution_count": 23,
      "outputs": []
    },
    {
      "cell_type": "code",
      "metadata": {
        "id": "_dVF6RPLNX7N"
      },
      "source": [
        "# Modelamiento de la data usando un diccionario de datasets y modelos\n",
        "def perform_data_evaluation(_models_, imputed_df, verbose=False, k_folds=5):\n",
        "    # 7 metricas, usando K-Folds\n",
        "    # en model_results guardaremos los resultados por clasificador y datasets\n",
        "    model_results = OrderedDict()\n",
        "    # to show table\n",
        "    resultados = {}\n",
        "\n",
        "    # Iteramos sobre los clasificadores\n",
        "    for model_name, clf in _models_.items():\n",
        "        imputer_results = OrderedDict()\n",
        "\n",
        "        # hacemos la division del dataframe en variables y etiquetas\n",
        "        features_df, labels_df = split_features_labels(imputed_df)\n",
        "\n",
        "        df_index = 0\n",
        "        # Ejecutamos la validación cruzada K-fold en los sets de entranamiento y test\n",
        "        X_train_list, y_train_list, X_test_list, y_test_list = kfold_cv(k_folds, features_df, labels_df, verbose)\n",
        "\n",
        "        metrics = OrderedDict()\n",
        "\n",
        "        # incializamos las metricas a guardar\n",
        "        accuracy_list = np.zeros([k_folds])\n",
        "        precision_list = np.zeros([k_folds, 2])\n",
        "        recall_list = np.zeros([k_folds, 2])\n",
        "        true_negs = np.zeros([k_folds])\n",
        "        false_pos = np.zeros([k_folds])\n",
        "        false_negs = np.zeros([k_folds])\n",
        "        true_pos = np.zeros([k_folds])\n",
        "        auc_list = np.zeros([k_folds])\n",
        "\n",
        "        # Iteramos sobre los k-folds para el cálculo de las métricas\n",
        "        for k in range(k_folds):\n",
        "            X_train = X_train_list[k]\n",
        "            y_train = y_train_list[k]\n",
        "            X_test = X_test_list[k]\n",
        "            y_test = y_test_list[k]\n",
        "\n",
        "            # y predicción en el set de test\n",
        "            y_test_predicted = clf.predict(X_test)\n",
        "\n",
        "            # guardamos accuracy y recall\n",
        "            _accuracy_ = accuracy_score(y_test, y_test_predicted, normalize=True)\n",
        "            accuracy_list[k] = _accuracy_\n",
        "            _recalls_ = recall_score(y_test, y_test_predicted, average=None)\n",
        "            recall_list[k] = _recalls_\n",
        "\n",
        "            # guardamos precision\n",
        "            _precisions_ = precision_score(y_test, y_test_predicted, average=None)\n",
        "            precision_list[k] = _precisions_\n",
        "\n",
        "            # calculamos la matriz de confusión\n",
        "            _confusion_matrix_ = confusion_matrix(y_test, y_test_predicted)\n",
        "            mlp_cm = confusion_matrix(y_test, y_test_predicted)\n",
        "\n",
        "            # guardamos demás valores: TN, FP, FN, TP\n",
        "            true_negs[k] = _confusion_matrix_[0][0]\n",
        "            false_pos[k] = _confusion_matrix_[0][1]\n",
        "            false_negs[k] = _confusion_matrix_[1][0]\n",
        "            true_pos[k] = _confusion_matrix_[1][1]\n",
        "\n",
        "            # calculamos el auc\n",
        "            _auc_curve_ = roc_auc_score(y_test, y_test_predicted)\n",
        "            # guardamos auc\n",
        "            auc_list[k] = _auc_curve_\n",
        "\n",
        "        # Hacemos la media en el caso de más datasets\n",
        "        metrics['Accuracy'] = np.mean(accuracy_list)\n",
        "        metrics['Precisions'] = np.mean(precision_list, axis=0)\n",
        "        metrics['Recalls'] = np.mean(recall_list, axis=0)\n",
        "        metrics['TN'] = np.mean(true_negs)\n",
        "        metrics['FP'] = np.mean(false_pos)\n",
        "        metrics['FN'] = np.mean(false_negs)\n",
        "        metrics['TP'] = np.mean(true_pos)\n",
        "        metrics['AUC'] = np.mean(auc_list)\n",
        "\n",
        "        # presentamos algunos valores\n",
        "        if verbose:\n",
        "            update_resultados(model_name, clf, resultados, X_train, X_test, y_train, y_test)\n",
        "\n",
        "        # guardamos en el diccionario\n",
        "        model_results[model_name] = metrics\n",
        "\n",
        "    return model_results"
      ],
      "execution_count": 24,
      "outputs": []
    },
    {
      "cell_type": "code",
      "metadata": {
        "colab": {
          "base_uri": "https://localhost:8080/",
          "height": 941
        },
        "id": "cnNDg8OQeEIl",
        "outputId": "0aeaf1bb-9225-4056-be37-6ed8d383f992"
      },
      "source": [
        "# Cross validación con 5 sets\n",
        "results3 = perform_data_evaluation(models_dictionary2, median_imputed_df, verbose=True, k_folds=5)"
      ],
      "execution_count": 25,
      "outputs": [
        {
          "output_type": "display_data",
          "data": {
            "text/html": [
              "<div>\n",
              "<style scoped>\n",
              "    .dataframe tbody tr th:only-of-type {\n",
              "        vertical-align: middle;\n",
              "    }\n",
              "\n",
              "    .dataframe tbody tr th {\n",
              "        vertical-align: top;\n",
              "    }\n",
              "\n",
              "    .dataframe thead tr th {\n",
              "        text-align: left;\n",
              "    }\n",
              "</style>\n",
              "<table border=\"1\" class=\"dataframe\">\n",
              "  <thead>\n",
              "    <tr>\n",
              "      <th></th>\n",
              "      <th colspan=\"5\" halign=\"left\">Entrenamiento</th>\n",
              "      <th colspan=\"5\" halign=\"left\">Pruebas</th>\n",
              "    </tr>\n",
              "    <tr>\n",
              "      <th></th>\n",
              "      <th>Exactitud</th>\n",
              "      <th>Precisión</th>\n",
              "      <th>Exhaustividad</th>\n",
              "      <th>F1</th>\n",
              "      <th>AUC</th>\n",
              "      <th>Exactitud</th>\n",
              "      <th>Precisión</th>\n",
              "      <th>Exhaustividad</th>\n",
              "      <th>F1</th>\n",
              "      <th>AUC</th>\n",
              "    </tr>\n",
              "  </thead>\n",
              "  <tbody>\n",
              "    <tr>\n",
              "      <th>SVM</th>\n",
              "      <td>0.973424</td>\n",
              "      <td>0.942857</td>\n",
              "      <td>0.1875</td>\n",
              "      <td>0.312796</td>\n",
              "      <td>0.957206</td>\n",
              "      <td>0.970653</td>\n",
              "      <td>0.833333</td>\n",
              "      <td>0.113636</td>\n",
              "      <td>0.2</td>\n",
              "      <td>0.904439</td>\n",
              "    </tr>\n",
              "  </tbody>\n",
              "</table>\n",
              "</div>"
            ],
            "text/plain": [
              "    Entrenamiento                          ...       Pruebas               \n",
              "        Exactitud Precisión Exhaustividad  ... Exhaustividad   F1       AUC\n",
              "SVM      0.973424  0.942857        0.1875  ...      0.113636  0.2  0.904439\n",
              "\n",
              "[1 rows x 10 columns]"
            ]
          },
          "metadata": {
            "tags": []
          }
        },
        {
          "output_type": "display_data",
          "data": {
            "text/html": [
              "<div>\n",
              "<style scoped>\n",
              "    .dataframe tbody tr th:only-of-type {\n",
              "        vertical-align: middle;\n",
              "    }\n",
              "\n",
              "    .dataframe tbody tr th {\n",
              "        vertical-align: top;\n",
              "    }\n",
              "\n",
              "    .dataframe thead tr th {\n",
              "        text-align: left;\n",
              "    }\n",
              "</style>\n",
              "<table border=\"1\" class=\"dataframe\">\n",
              "  <thead>\n",
              "    <tr>\n",
              "      <th></th>\n",
              "      <th colspan=\"5\" halign=\"left\">Entrenamiento</th>\n",
              "      <th colspan=\"5\" halign=\"left\">Pruebas</th>\n",
              "    </tr>\n",
              "    <tr>\n",
              "      <th></th>\n",
              "      <th>Exactitud</th>\n",
              "      <th>Precisión</th>\n",
              "      <th>Exhaustividad</th>\n",
              "      <th>F1</th>\n",
              "      <th>AUC</th>\n",
              "      <th>Exactitud</th>\n",
              "      <th>Precisión</th>\n",
              "      <th>Exhaustividad</th>\n",
              "      <th>F1</th>\n",
              "      <th>AUC</th>\n",
              "    </tr>\n",
              "  </thead>\n",
              "  <tbody>\n",
              "    <tr>\n",
              "      <th>SVM</th>\n",
              "      <td>0.973424</td>\n",
              "      <td>0.942857</td>\n",
              "      <td>0.187500</td>\n",
              "      <td>0.312796</td>\n",
              "      <td>0.957206</td>\n",
              "      <td>0.970653</td>\n",
              "      <td>0.833333</td>\n",
              "      <td>0.113636</td>\n",
              "      <td>0.200000</td>\n",
              "      <td>0.904439</td>\n",
              "    </tr>\n",
              "    <tr>\n",
              "      <th>SVM+GA</th>\n",
              "      <td>0.992119</td>\n",
              "      <td>1.000000</td>\n",
              "      <td>0.755682</td>\n",
              "      <td>0.860841</td>\n",
              "      <td>0.986400</td>\n",
              "      <td>0.968452</td>\n",
              "      <td>0.538462</td>\n",
              "      <td>0.159091</td>\n",
              "      <td>0.245614</td>\n",
              "      <td>0.926959</td>\n",
              "    </tr>\n",
              "  </tbody>\n",
              "</table>\n",
              "</div>"
            ],
            "text/plain": [
              "       Entrenamiento                          ...       Pruebas                    \n",
              "           Exactitud Precisión Exhaustividad  ... Exhaustividad        F1       AUC\n",
              "SVM         0.973424  0.942857      0.187500  ...      0.113636  0.200000  0.904439\n",
              "SVM+GA      0.992119  1.000000      0.755682  ...      0.159091  0.245614  0.926959\n",
              "\n",
              "[2 rows x 10 columns]"
            ]
          },
          "metadata": {
            "tags": []
          }
        },
        {
          "output_type": "display_data",
          "data": {
            "image/png": "[encoded data removed]",
            "text/plain": [
              "<Figure size 1296x360 with 4 Axes>"
            ]
          },
          "metadata": {
            "tags": [],
            "needs_background": "light"
          }
        },
        {
          "output_type": "display_data",
          "data": {
            "image/png": "[encoded data removed]",
            "text/plain": [
              "<Figure size 1296x360 with 4 Axes>"
            ]
          },
          "metadata": {
            "tags": [],
            "needs_background": "light"
          }
        }
      ]
    }
  ]
}