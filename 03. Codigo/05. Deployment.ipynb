{
  "nbformat": 4,
  "nbformat_minor": 0,
  "metadata": {
    "colab": {
      "name": "05. Deployment.ipynb",
      "provenance": [],
      "collapsed_sections": []
    },
    "kernelspec": {
      "name": "python3",
      "display_name": "Python 3.8.6 64-bit"
    },
    "language_info": {
      "name": "python",
      "version": "3.8.6"
    },
    "interpreter": {
      "hash": "a6974f591a6cacf7a81ec2d11a96a55a57f0f00ff64e51bda44c50474fd6653c"
    }
  },
  "cells": [
    {
      "cell_type": "code",
      "metadata": {
        "id": "VgSt9f0AY6TQ"
      },
      "source": [
        "ga_update = 1"
      ],
      "execution_count": 1,
      "outputs": []
    },
    {
      "cell_type": "code",
      "metadata": {
        "colab": {
          "base_uri": "https://localhost:8080/"
        },
        "id": "B8PHL0mSRImM",
        "outputId": "749397d9-a100-4560-8005-ec60667506b0"
      },
      "source": [
        "if ga_update:\n",
        "  !pip install auto-sklearn\n",
        "  !python -m pip install dask distributed --upgrade"
      ],
      "execution_count": 2,
      "outputs": [
        {
          "output_type": "stream",
          "text": [
            "Collecting auto-sklearn\n",
            "\u001b[?25l  Downloading https://files.pythonhosted.org/packages/a5/1b/9249f7d4498cbdb0130352a838e02ca7d7bebbcacde74d1f4f26a5d9202b/auto-sklearn-0.12.6.tar.gz (6.1MB)\n",
            "\u001b[K     |████████████████████████████████| 6.1MB 16.9MB/s \n",
            "\u001b[?25hRequirement already satisfied: setuptools in /usr/local/lib/python3.7/dist-packages (from auto-sklearn) (57.0.0)\n",
            "Requirement already satisfied: numpy>=1.9.0 in /usr/local/lib/python3.7/dist-packages (from auto-sklearn) (1.19.5)\n",
            "Requirement already satisfied: scipy>=0.14.1 in /usr/local/lib/python3.7/dist-packages (from auto-sklearn) (1.4.1)\n",
            "Requirement already satisfied: joblib in /usr/local/lib/python3.7/dist-packages (from auto-sklearn) (1.0.1)\n",
            "Collecting scikit-learn<0.25.0,>=0.24.0\n",
            "\u001b[?25l  Downloading https://files.pythonhosted.org/packages/a8/eb/a48f25c967526b66d5f1fa7a984594f0bf0a5afafa94a8c4dbc317744620/scikit_learn-0.24.2-cp37-cp37m-manylinux2010_x86_64.whl (22.3MB)\n",
            "\u001b[K     |████████████████████████████████| 22.3MB 2.2MB/s \n",
            "\u001b[?25hRequirement already satisfied: dask in /usr/local/lib/python3.7/dist-packages (from auto-sklearn) (2.12.0)\n",
            "Collecting distributed>=2.2.0\n",
            "\u001b[?25l  Downloading https://files.pythonhosted.org/packages/14/03/104c2cb8f498165da0037fbe76581678027ea2722bac2775f04aaeafef65/distributed-2021.6.2-py3-none-any.whl (722kB)\n",
            "\u001b[K     |████████████████████████████████| 727kB 38.9MB/s \n",
            "\u001b[?25hRequirement already satisfied: pyyaml in /usr/local/lib/python3.7/dist-packages (from auto-sklearn) (3.13)\n",
            "Requirement already satisfied: pandas>=1.0 in /usr/local/lib/python3.7/dist-packages (from auto-sklearn) (1.1.5)\n",
            "Collecting liac-arff\n",
            "  Downloading https://files.pythonhosted.org/packages/6e/43/73944aa5ad2b3185c0f0ba0ee6f73277f2eb51782ca6ccf3e6793caf209a/liac-arff-2.5.0.tar.gz\n",
            "Collecting ConfigSpace<0.5,>=0.4.14\n",
            "\u001b[?25l  Downloading https://files.pythonhosted.org/packages/3e/19/726bcb262949ec28c71ba571bfb1a0006f985e7141a83cff34c733c75739/ConfigSpace-0.4.19-cp37-cp37m-manylinux2014_x86_64.whl (4.2MB)\n",
            "\u001b[K     |████████████████████████████████| 4.2MB 31.1MB/s \n",
            "\u001b[?25hCollecting pynisher>=0.6.3\n",
            "  Downloading https://files.pythonhosted.org/packages/8d/39/edac9acf3bd245ecf475151014cce3652c25ca3c2352eac725502cfce6ea/pynisher-0.6.4.tar.gz\n",
            "Collecting pyrfr<0.9,>=0.8.1\n",
            "\u001b[?25l  Downloading https://files.pythonhosted.org/packages/8b/1a/56b630c949e942d12f4ad5f4fd240c1cf2e1260e5126190b171ca2aa9199/pyrfr-0.8.2-cp37-cp37m-manylinux2014_x86_64.whl (4.0MB)\n",
            "\u001b[K     |████████████████████████████████| 4.0MB 33.7MB/s \n",
            "\u001b[?25hCollecting smac<0.14,>=0.13.1\n",
            "\u001b[?25l  Downloading https://files.pythonhosted.org/packages/ef/f2/8ea040eaa2253a3606472b08d9c2a23be1a177c0c19e236a2b3222c0fd78/smac-0.13.1.tar.gz (258kB)\n",
            "\u001b[K     |████████████████████████████████| 266kB 48.2MB/s \n",
            "\u001b[?25hCollecting threadpoolctl>=2.0.0\n",
            "  Downloading https://files.pythonhosted.org/packages/f7/12/ec3f2e203afa394a149911729357aa48affc59c20e2c1c8297a60f33f133/threadpoolctl-2.1.0-py3-none-any.whl\n",
            "Requirement already satisfied: sortedcontainers!=2.0.0,!=2.0.1 in /usr/local/lib/python3.7/dist-packages (from distributed>=2.2.0->auto-sklearn) (2.4.0)\n",
            "Requirement already satisfied: tblib>=1.6.0 in /usr/local/lib/python3.7/dist-packages (from distributed>=2.2.0->auto-sklearn) (1.7.0)\n",
            "Requirement already satisfied: zict>=0.1.3 in /usr/local/lib/python3.7/dist-packages (from distributed>=2.2.0->auto-sklearn) (2.0.0)\n",
            "Requirement already satisfied: tornado>=5; python_version < \"3.8\" in /usr/local/lib/python3.7/dist-packages (from distributed>=2.2.0->auto-sklearn) (5.1.1)\n",
            "Collecting cloudpickle>=1.5.0\n",
            "  Downloading https://files.pythonhosted.org/packages/e7/e3/898487e5dbeb612054cf2e0c188463acb358167fef749c53c8bb8918cea1/cloudpickle-1.6.0-py3-none-any.whl\n",
            "Requirement already satisfied: msgpack>=0.6.0 in /usr/local/lib/python3.7/dist-packages (from distributed>=2.2.0->auto-sklearn) (1.0.2)\n",
            "Requirement already satisfied: psutil>=5.0 in /usr/local/lib/python3.7/dist-packages (from distributed>=2.2.0->auto-sklearn) (5.4.8)\n",
            "Requirement already satisfied: toolz>=0.8.2 in /usr/local/lib/python3.7/dist-packages (from distributed>=2.2.0->auto-sklearn) (0.11.1)\n",
            "Requirement already satisfied: click>=6.6 in /usr/local/lib/python3.7/dist-packages (from distributed>=2.2.0->auto-sklearn) (7.1.2)\n",
            "Requirement already satisfied: pytz>=2017.2 in /usr/local/lib/python3.7/dist-packages (from pandas>=1.0->auto-sklearn) (2018.9)\n",
            "Requirement already satisfied: python-dateutil>=2.7.3 in /usr/local/lib/python3.7/dist-packages (from pandas>=1.0->auto-sklearn) (2.8.1)\n",
            "Requirement already satisfied: pyparsing in /usr/local/lib/python3.7/dist-packages (from ConfigSpace<0.5,>=0.4.14->auto-sklearn) (2.4.7)\n",
            "Requirement already satisfied: cython in /usr/local/lib/python3.7/dist-packages (from ConfigSpace<0.5,>=0.4.14->auto-sklearn) (0.29.23)\n",
            "Collecting lazy_import\n",
            "  Downloading https://files.pythonhosted.org/packages/44/2e/5378f9b9cbc893826c2ecb022646c97ece9efbaad351adf89425fff33990/lazy_import-0.2.2.tar.gz\n",
            "Requirement already satisfied: heapdict in /usr/local/lib/python3.7/dist-packages (from zict>=0.1.3->distributed>=2.2.0->auto-sklearn) (1.0.1)\n",
            "Requirement already satisfied: six>=1.5 in /usr/local/lib/python3.7/dist-packages (from python-dateutil>=2.7.3->pandas>=1.0->auto-sklearn) (1.15.0)\n",
            "Building wheels for collected packages: auto-sklearn, liac-arff, pynisher, smac, lazy-import\n",
            "  Building wheel for auto-sklearn (setup.py) ... \u001b[?25l\u001b[?25hdone\n",
            "  Created wheel for auto-sklearn: filename=auto_sklearn-0.12.6-cp37-none-any.whl size=6370105 sha256=bed4e65d0d8d20aba6ac5635cff5c47c45c293c157b794174f013de1e9ee97e7\n",
            "  Stored in directory: /root/.cache/pip/wheels/5f/c8/1f/3a6d11c1e156bf431e7cc4c4ff27e71059acc9638caa11ab35\n",
            "  Building wheel for liac-arff (setup.py) ... \u001b[?25l\u001b[?25hdone\n",
            "  Created wheel for liac-arff: filename=liac_arff-2.5.0-cp37-none-any.whl size=11732 sha256=ea7747951ab94c3762e0ccdad328da63aaad8e1854052ec27b4ff0711fade149\n",
            "  Stored in directory: /root/.cache/pip/wheels/77/8d/b4/8bfce5beea9a3496cc15b24961876adb7b6e2912ff09164179\n",
            "  Building wheel for pynisher (setup.py) ... \u001b[?25l\u001b[?25hdone\n",
            "  Created wheel for pynisher: filename=pynisher-0.6.4-cp37-none-any.whl size=7045 sha256=11faffd65bda837a5e3d2642380e6d93853f65e33a2a83c960c406a2801a3f15\n",
            "  Stored in directory: /root/.cache/pip/wheels/70/07/6b/c0e6d547d91cd50a30207421c3c3a63d71f195255c66401209\n",
            "  Building wheel for smac (setup.py) ... \u001b[?25l\u001b[?25hdone\n",
            "  Created wheel for smac: filename=smac-0.13.1-cp37-none-any.whl size=252181 sha256=ce7d7f058d2e6892ee8e9186668591c8e30a95eb82cd534b4baa8b0916950d31\n",
            "  Stored in directory: /root/.cache/pip/wheels/29/a6/af/9ec3c1ff517759ad1aad6babcbcf047dd5078c8b08fa4e63cc\n",
            "  Building wheel for lazy-import (setup.py) ... \u001b[?25l\u001b[?25hdone\n",
            "  Created wheel for lazy-import: filename=lazy_import-0.2.2-py2.py3-none-any.whl size=16497 sha256=743c6035f25a224540d7a18d56b0d412cdf9dcb61bc48f61526b00ed1a173816\n",
            "  Stored in directory: /root/.cache/pip/wheels/a9/b0/b5/8c7e6810aee14bc4ed4a542ce56e744126263bf4f4825a9094\n",
            "Successfully built auto-sklearn liac-arff pynisher smac lazy-import\n",
            "\u001b[31mERROR: distributed 2021.6.2 has requirement dask==2021.06.2, but you'll have dask 2.12.0 which is incompatible.\u001b[0m\n",
            "Installing collected packages: threadpoolctl, scikit-learn, cloudpickle, distributed, liac-arff, ConfigSpace, pynisher, pyrfr, lazy-import, smac, auto-sklearn\n",
            "  Found existing installation: scikit-learn 0.22.2.post1\n",
            "    Uninstalling scikit-learn-0.22.2.post1:\n",
            "      Successfully uninstalled scikit-learn-0.22.2.post1\n",
            "  Found existing installation: cloudpickle 1.3.0\n",
            "    Uninstalling cloudpickle-1.3.0:\n",
            "      Successfully uninstalled cloudpickle-1.3.0\n",
            "  Found existing installation: distributed 1.25.3\n",
            "    Uninstalling distributed-1.25.3:\n",
            "      Successfully uninstalled distributed-1.25.3\n",
            "Successfully installed ConfigSpace-0.4.19 auto-sklearn-0.12.6 cloudpickle-1.6.0 distributed-2021.6.2 lazy-import-0.2.2 liac-arff-2.5.0 pynisher-0.6.4 pyrfr-0.8.2 scikit-learn-0.24.2 smac-0.13.1 threadpoolctl-2.1.0\n",
            "Collecting dask\n",
            "\u001b[?25l  Downloading https://files.pythonhosted.org/packages/02/36/5e18bf30a172efd676fb7d668cc14d2624c15a4417b6c047e1def79ee450/dask-2021.6.2-py3-none-any.whl (973kB)\n",
            "\u001b[K     |████████████████████████████████| 983kB 23.1MB/s \n",
            "\u001b[?25hRequirement already up-to-date: distributed in /usr/local/lib/python3.7/dist-packages (2021.6.2)\n",
            "Requirement already satisfied, skipping upgrade: pyyaml in /usr/local/lib/python3.7/dist-packages (from dask) (3.13)\n",
            "Collecting fsspec>=0.6.0\n",
            "\u001b[?25l  Downloading https://files.pythonhosted.org/packages/0e/3a/666e63625a19883ae8e1674099e631f9737bd5478c4790e5ad49c5ac5261/fsspec-2021.6.1-py3-none-any.whl (115kB)\n",
            "\u001b[K     |████████████████████████████████| 122kB 41.2MB/s \n",
            "\u001b[?25hRequirement already satisfied, skipping upgrade: toolz>=0.8.2 in /usr/local/lib/python3.7/dist-packages (from dask) (0.11.1)\n",
            "Collecting partd>=0.3.10\n",
            "  Downloading https://files.pythonhosted.org/packages/41/94/360258a68b55f47859d72b2d0b2b3cfe0ca4fbbcb81b78812bd00ae86b7c/partd-1.2.0-py3-none-any.whl\n",
            "Requirement already satisfied, skipping upgrade: cloudpickle>=1.1.1 in /usr/local/lib/python3.7/dist-packages (from dask) (1.6.0)\n",
            "Requirement already satisfied, skipping upgrade: zict>=0.1.3 in /usr/local/lib/python3.7/dist-packages (from distributed) (2.0.0)\n",
            "Requirement already satisfied, skipping upgrade: click>=6.6 in /usr/local/lib/python3.7/dist-packages (from distributed) (7.1.2)\n",
            "Requirement already satisfied, skipping upgrade: tornado>=5; python_version < \"3.8\" in /usr/local/lib/python3.7/dist-packages (from distributed) (5.1.1)\n",
            "Requirement already satisfied, skipping upgrade: psutil>=5.0 in /usr/local/lib/python3.7/dist-packages (from distributed) (5.4.8)\n",
            "Requirement already satisfied, skipping upgrade: tblib>=1.6.0 in /usr/local/lib/python3.7/dist-packages (from distributed) (1.7.0)\n",
            "Requirement already satisfied, skipping upgrade: sortedcontainers!=2.0.0,!=2.0.1 in /usr/local/lib/python3.7/dist-packages (from distributed) (2.4.0)\n",
            "Requirement already satisfied, skipping upgrade: setuptools in /usr/local/lib/python3.7/dist-packages (from distributed) (57.0.0)\n",
            "Requirement already satisfied, skipping upgrade: msgpack>=0.6.0 in /usr/local/lib/python3.7/dist-packages (from distributed) (1.0.2)\n",
            "Collecting locket\n",
            "  Downloading https://files.pythonhosted.org/packages/50/b8/e789e45b9b9c2db75e9d9e6ceb022c8d1d7e49b2c085ce8c05600f90a96b/locket-0.2.1-py2.py3-none-any.whl\n",
            "Requirement already satisfied, skipping upgrade: heapdict in /usr/local/lib/python3.7/dist-packages (from zict>=0.1.3->distributed) (1.0.1)\n",
            "Installing collected packages: fsspec, locket, partd, dask\n",
            "  Found existing installation: dask 2.12.0\n",
            "    Uninstalling dask-2.12.0:\n",
            "      Successfully uninstalled dask-2.12.0\n",
            "Successfully installed dask-2021.6.2 fsspec-2021.6.1 locket-0.2.1 partd-1.2.0\n"
          ],
          "name": "stdout"
        }
      ]
    },
    {
      "cell_type": "markdown",
      "metadata": {
        "id": "eJ0hxe84psVf"
      },
      "source": [
        "## Library imports"
      ]
    },
    {
      "cell_type": "code",
      "metadata": {
        "id": "9ecVSwJDWhU9"
      },
      "source": [
        "import os\n",
        "import numpy as np\n",
        "import pandas as pd\n",
        "from matplotlib import pyplot as plt\n",
        "import autosklearn.classification\n",
        "from sklearn.model_selection import train_test_split\n",
        "from sklearn.metrics import accuracy_score\n",
        "from sklearn.metrics import precision_score\n",
        "from sklearn.metrics import recall_score\n",
        "from sklearn.metrics import f1_score\n",
        "from sklearn.metrics import confusion_matrix\n",
        "from sklearn.metrics import plot_confusion_matrix\n",
        "from sklearn.metrics import plot_roc_curve\n",
        "from sklearn.metrics import roc_curve, roc_auc_score\n",
        "from sklearn.metrics import plot_precision_recall_curve\n",
        "\n",
        "import joblib\n",
        "\n",
        "import random\n",
        "from collections import OrderedDict\n",
        "import warnings\n",
        "warnings.filterwarnings('ignore')"
      ],
      "execution_count": 1,
      "outputs": []
    },
    {
      "cell_type": "markdown",
      "metadata": {
        "id": "nxGtKkgx7HUx"
      },
      "source": [
        "## Selección de features importantes"
      ]
    },
    {
      "cell_type": "code",
      "metadata": {
        "id": "0kEDEipR7HUx"
      },
      "source": [
        "important_features = ['X30',\n",
        " 'X90',\n",
        " 'X43',\n",
        " 'X40',\n",
        " 'X19',\n",
        " 'X59',\n",
        " 'X57',\n",
        " 'X92',\n",
        " 'X23',\n",
        " 'X38',\n",
        " 'X35',\n",
        " 'X86',\n",
        " 'X93',\n",
        " 'X37',\n",
        " 'X16',\n",
        " 'X65',\n",
        " 'X17',\n",
        " 'X9',\n",
        " 'X14',\n",
        " 'X1',\n",
        " 'X34',\n",
        " 'X18',\n",
        " 'X87',\n",
        " 'X3',\n",
        " 'X10',\n",
        " 'X95',\n",
        " 'X36',\n",
        " 'X53',\n",
        " 'X69',\n",
        " 'X74',\n",
        " 'X46',\n",
        " 'X91',\n",
        " 'X47',\n",
        " 'X54',\n",
        " 'X62',\n",
        " 'X68',\n",
        " 'X78',\n",
        " 'X31',\n",
        " 'X58',\n",
        " 'X12',\n",
        " 'X51',\n",
        " 'X7',\n",
        " 'X28',\n",
        " 'X66',\n",
        " 'X81',\n",
        " 'X44',\n",
        " 'X29',\n",
        " 'X49',\n",
        " 'X52',\n",
        " 'X8',\n",
        " 'X33',\n",
        " 'X32',\n",
        " 'X88',\n",
        " 'X42',\n",
        " 'X79',\n",
        " 'X71',\n",
        " 'X22',\n",
        " 'X50',\n",
        " 'X48',\n",
        " 'X20',\n",
        " 'X26',\n",
        " 'X24',\n",
        " 'X2',\n",
        " 'X89',\n",
        " 'X80',\n",
        " 'X82',\n",
        " 'X27',\n",
        " 'X5',\n",
        " 'X4',\n",
        " 'X11']"
      ],
      "execution_count": 2,
      "outputs": []
    },
    {
      "cell_type": "code",
      "metadata": {
        "id": "1BFxAhy77HUy"
      },
      "source": [
        "# se carga dataset imputado\n",
        "imputed_df = pd.read_pickle('dataset_normalizado.pkl')"
      ],
      "execution_count": 5,
      "outputs": []
    },
    {
      "cell_type": "code",
      "metadata": {
        "id": "T2rl-xce7HUy"
      },
      "source": [
        "# función para separar las columnas en variables y etiquetas ('flag')\n",
        "def split_features(df,features):\n",
        "    feature_dfs = df[features]\n",
        "    label_dfs = df['flag']\n",
        "    return feature_dfs, label_dfs"
      ],
      "execution_count": 6,
      "outputs": []
    },
    {
      "cell_type": "markdown",
      "metadata": {
        "id": "zmK0Jqnlb9sP"
      },
      "source": [
        "## Fit"
      ]
    },
    {
      "cell_type": "code",
      "metadata": {
        "id": "rDcQfT1I7HU2"
      },
      "source": [
        "# hacemos la division del dataframe en variables y etiquetas\n",
        "X, y = split_features(imputed_df,important_features)\n",
        "\n",
        "# Dividimos la data en test y train\n",
        "X_train, X_test, y_train, y_test = train_test_split(X, y, \\\n",
        "            stratify = y,test_size = 0.2,random_state=1)"
      ],
      "execution_count": 7,
      "outputs": []
    },
    {
      "cell_type": "code",
      "metadata": {
        "colab": {
          "base_uri": "https://localhost:8080/"
        },
        "id": "UcC8LsC9vvG2",
        "outputId": "55ba96e6-2ee7-472f-b001-cd8c2348a320"
      },
      "source": [
        "cls = autosklearn.classification.AutoSklearnClassifier(ensemble_nbest=10)\n",
        "cls.fit(X_train, y_train)"
      ],
      "execution_count": 9,
      "outputs": [
        {
          "output_type": "execute_result",
          "data": {
            "text/plain": [
              "AutoSklearnClassifier(ensemble_nbest=10, per_run_time_limit=360)"
            ]
          },
          "metadata": {
            "tags": []
          },
          "execution_count": 9
        }
      ]
    },
    {
      "cell_type": "code",
      "metadata": {
        "colab": {
          "base_uri": "https://localhost:8080/",
          "height": 137
        },
        "id": "GcC_CnYVapnI",
        "outputId": "ec40d7b1-7f36-4fb3-a3ff-b5f1d61bfb9c"
      },
      "source": [
        "cls.show_models()"
      ],
      "execution_count": 10,
      "outputs": [
        {
          "output_type": "execute_result",
          "data": {
            "application/vnd.google.colaboratory.intrinsic+json": {
              "type": "string"
            },
            "text/plain": [
              "\"[(0.280000, SimpleClassificationPipeline({'balancing:strategy': 'none', 'classifier:__choice__': 'gradient_boosting', 'data_preprocessing:categorical_transformer:categorical_encoding:__choice__': 'one_hot_encoding', 'data_preprocessing:categorical_transformer:category_coalescence:__choice__': 'minority_coalescer', 'data_preprocessing:numerical_transformer:imputation:strategy': 'most_frequent', 'data_preprocessing:numerical_transformer:rescaling:__choice__': 'quantile_transformer', 'feature_preprocessor:__choice__': 'no_preprocessing', 'classifier:gradient_boosting:early_stop': 'train', 'classifier:gradient_boosting:l2_regularization': 1.3412512235813081e-08, 'classifier:gradient_boosting:learning_rate': 0.10000000000000002, 'classifier:gradient_boosting:loss': 'auto', 'classifier:gradient_boosting:max_bins': 255, 'classifier:gradient_boosting:max_depth': 'None', 'classifier:gradient_boosting:max_leaf_nodes': 40, 'classifier:gradient_boosting:min_samples_leaf': 14, 'classifier:gradient_boosting:scoring': 'loss', 'classifier:gradient_boosting:tol': 1e-07, 'data_preprocessing:categorical_transformer:category_coalescence:minority_coalescer:minimum_fraction': 0.010000000000000004, 'data_preprocessing:numerical_transformer:rescaling:quantile_transformer:n_quantiles': 311, 'data_preprocessing:numerical_transformer:rescaling:quantile_transformer:output_distribution': 'normal', 'classifier:gradient_boosting:n_iter_no_change': 10},\\ndataset_properties={\\n  'task': 1,\\n  'sparse': False,\\n  'multilabel': False,\\n  'multiclass': False,\\n  'target_type': 'classification',\\n  'signed': False})),\\n(0.280000, SimpleClassificationPipeline({'balancing:strategy': 'none', 'classifier:__choice__': 'adaboost', 'data_preprocessing:categorical_transformer:categorical_encoding:__choice__': 'one_hot_encoding', 'data_preprocessing:categorical_transformer:category_coalescence:__choice__': 'no_coalescense', 'data_preprocessing:numerical_transformer:imputation:strategy': 'median', 'data_preprocessing:numerical_transformer:rescaling:__choice__': 'quantile_transformer', 'feature_preprocessor:__choice__': 'feature_agglomeration', 'classifier:adaboost:algorithm': 'SAMME', 'classifier:adaboost:learning_rate': 0.9772078202526538, 'classifier:adaboost:max_depth': 5, 'classifier:adaboost:n_estimators': 418, 'data_preprocessing:numerical_transformer:rescaling:quantile_transformer:n_quantiles': 1460, 'data_preprocessing:numerical_transformer:rescaling:quantile_transformer:output_distribution': 'normal', 'feature_preprocessor:feature_agglomeration:affinity': 'cosine', 'feature_preprocessor:feature_agglomeration:linkage': 'complete', 'feature_preprocessor:feature_agglomeration:n_clusters': 168, 'feature_preprocessor:feature_agglomeration:pooling_func': 'max'},\\ndataset_properties={\\n  'task': 1,\\n  'sparse': False,\\n  'multilabel': False,\\n  'multiclass': False,\\n  'target_type': 'classification',\\n  'signed': False})),\\n(0.240000, SimpleClassificationPipeline({'balancing:strategy': 'none', 'classifier:__choice__': 'random_forest', 'data_preprocessing:categorical_transformer:categorical_encoding:__choice__': 'one_hot_encoding', 'data_preprocessing:categorical_transformer:category_coalescence:__choice__': 'minority_coalescer', 'data_preprocessing:numerical_transformer:imputation:strategy': 'median', 'data_preprocessing:numerical_transformer:rescaling:__choice__': 'quantile_transformer', 'feature_preprocessor:__choice__': 'polynomial', 'classifier:random_forest:bootstrap': 'True', 'classifier:random_forest:criterion': 'gini', 'classifier:random_forest:max_depth': 'None', 'classifier:random_forest:max_features': 0.5270092144184697, 'classifier:random_forest:max_leaf_nodes': 'None', 'classifier:random_forest:min_impurity_decrease': 0.0, 'classifier:random_forest:min_samples_leaf': 17, 'classifier:random_forest:min_samples_split': 13, 'classifier:random_forest:min_weight_fraction_leaf': 0.0, 'data_preprocessing:categorical_transformer:category_coalescence:minority_coalescer:minimum_fraction': 0.010880229954967232, 'data_preprocessing:numerical_transformer:rescaling:quantile_transformer:n_quantiles': 67, 'data_preprocessing:numerical_transformer:rescaling:quantile_transformer:output_distribution': 'normal', 'feature_preprocessor:polynomial:degree': 2, 'feature_preprocessor:polynomial:include_bias': 'True', 'feature_preprocessor:polynomial:interaction_only': 'True'},\\ndataset_properties={\\n  'task': 1,\\n  'sparse': False,\\n  'multilabel': False,\\n  'multiclass': False,\\n  'target_type': 'classification',\\n  'signed': False})),\\n(0.180000, SimpleClassificationPipeline({'balancing:strategy': 'none', 'classifier:__choice__': 'random_forest', 'data_preprocessing:categorical_transformer:categorical_encoding:__choice__': 'one_hot_encoding', 'data_preprocessing:categorical_transformer:category_coalescence:__choice__': 'minority_coalescer', 'data_preprocessing:numerical_transformer:imputation:strategy': 'mean', 'data_preprocessing:numerical_transformer:rescaling:__choice__': 'robust_scaler', 'feature_preprocessor:__choice__': 'no_preprocessing', 'classifier:random_forest:bootstrap': 'True', 'classifier:random_forest:criterion': 'entropy', 'classifier:random_forest:max_depth': 'None', 'classifier:random_forest:max_features': 0.8348164627783945, 'classifier:random_forest:max_leaf_nodes': 'None', 'classifier:random_forest:min_impurity_decrease': 0.0, 'classifier:random_forest:min_samples_leaf': 19, 'classifier:random_forest:min_samples_split': 4, 'classifier:random_forest:min_weight_fraction_leaf': 0.0, 'data_preprocessing:categorical_transformer:category_coalescence:minority_coalescer:minimum_fraction': 0.004961712697308694, 'data_preprocessing:numerical_transformer:rescaling:robust_scaler:q_max': 0.9852068643461542, 'data_preprocessing:numerical_transformer:rescaling:robust_scaler:q_min': 0.2575009137031775},\\ndataset_properties={\\n  'task': 1,\\n  'sparse': False,\\n  'multilabel': False,\\n  'multiclass': False,\\n  'target_type': 'classification',\\n  'signed': False})),\\n(0.020000, SimpleClassificationPipeline({'balancing:strategy': 'none', 'classifier:__choice__': 'random_forest', 'data_preprocessing:categorical_transformer:categorical_encoding:__choice__': 'no_encoding', 'data_preprocessing:categorical_transformer:category_coalescence:__choice__': 'minority_coalescer', 'data_preprocessing:numerical_transformer:imputation:strategy': 'most_frequent', 'data_preprocessing:numerical_transformer:rescaling:__choice__': 'quantile_transformer', 'feature_preprocessor:__choice__': 'polynomial', 'classifier:random_forest:bootstrap': 'False', 'classifier:random_forest:criterion': 'gini', 'classifier:random_forest:max_depth': 'None', 'classifier:random_forest:max_features': 0.46743550681416224, 'classifier:random_forest:max_leaf_nodes': 'None', 'classifier:random_forest:min_impurity_decrease': 0.0, 'classifier:random_forest:min_samples_leaf': 1, 'classifier:random_forest:min_samples_split': 12, 'classifier:random_forest:min_weight_fraction_leaf': 0.0, 'data_preprocessing:categorical_transformer:category_coalescence:minority_coalescer:minimum_fraction': 0.008995373939488294, 'data_preprocessing:numerical_transformer:rescaling:quantile_transformer:n_quantiles': 683, 'data_preprocessing:numerical_transformer:rescaling:quantile_transformer:output_distribution': 'uniform', 'feature_preprocessor:polynomial:degree': 2, 'feature_preprocessor:polynomial:include_bias': 'True', 'feature_preprocessor:polynomial:interaction_only': 'True'},\\ndataset_properties={\\n  'task': 1,\\n  'sparse': False,\\n  'multilabel': False,\\n  'multiclass': False,\\n  'target_type': 'classification',\\n  'signed': False})),\\n]\""
            ]
          },
          "metadata": {
            "tags": []
          },
          "execution_count": 10
        }
      ]
    },
    {
      "cell_type": "code",
      "metadata": {
        "colab": {
          "base_uri": "https://localhost:8080/"
        },
        "id": "B8aED2c8cDjG",
        "outputId": "12b31db1-1fc9-4db8-ad60-5eb81ce6d4f1"
      },
      "source": [
        "joblib.dump(cls, os.path.join('modelos','Modelo_AUTO-SK.pkl'))"
      ],
      "execution_count": 12,
      "outputs": [
        {
          "output_type": "execute_result",
          "data": {
            "text/plain": [
              "['modelos/Modelo_AUTO-SK.pkl']"
            ]
          },
          "metadata": {
            "tags": []
          },
          "execution_count": 12
        }
      ]
    },
    {
      "cell_type": "markdown",
      "metadata": {
        "id": "UC-zC0Cq7HU2"
      },
      "source": [
        "## Evaluación"
      ]
    },
    {
      "cell_type": "code",
      "metadata": {
        "id": "2U0l61MQW5E2"
      },
      "source": [
        "def save_and_show_resultados(descripcion, model, resultados, X_train, X_test, y_train, y_test):\n",
        "  y_train_pred = model.predict(X_train)\n",
        "  y_train_pred_proba = model.predict_proba(X_train)[:,1]\n",
        "\n",
        "  y_test_pred = model.predict(X_test)\n",
        "  y_test_pred_proba = model.predict_proba(X_test)[:,1]\n",
        "\n",
        "  confusion_matrix_train = confusion_matrix(y_train, y_train_pred)\n",
        "  confusion_matrix_test = confusion_matrix(y_test, y_test_pred)\n",
        "\n",
        "  resultados.update( { descripcion: {\n",
        "      ('Entrenamiento', 'Exactitud'): model.score(X_train, y_train),\n",
        "      ('Entrenamiento', 'F1'): f1_score(y_train, y_train_pred),\n",
        "      ('Entrenamiento', 'AUC'): roc_auc_score(y_train, y_train_pred_proba),\n",
        "      ('Entrenamiento', 'TypeI'): confusion_matrix_train[0][1],\n",
        "      ('Pruebas', 'Exactitud'): model.score(X_test, y_test),\n",
        "      ('Pruebas', 'F1'): f1_score(y_test, y_test_pred),\n",
        "      ('Pruebas', 'AUC'): roc_auc_score(y_test, y_test_pred_proba),\n",
        "      ('Pruebas', 'TypeI'): confusion_matrix_test[0][1]\n",
        "    } } )\n",
        "  fig, axes = plt.subplots(1, 3, figsize=(18, 5))\n",
        "  fig.suptitle(f'{descripcion} (Conjunto de Pruebas)')\n",
        "  plot_confusion_matrix(model, X_test, y_test, ax=axes[0], values_format='d')\n",
        "  plot_roc_curve(model, X_test, y_test, ax=axes[1], name=descripcion)\n",
        "  plot_precision_recall_curve(model, X_test, y_test, ax=axes[2], name=descripcion)\n",
        "  return"
      ],
      "execution_count": 13,
      "outputs": []
    },
    {
      "cell_type": "code",
      "metadata": {
        "id": "tT7avuCp7HU3"
      },
      "source": [
        "predictions = cls.predict(X_test)"
      ],
      "execution_count": 7,
      "outputs": []
    },
    {
      "cell_type": "code",
      "metadata": {
        "colab": {
          "base_uri": "https://localhost:8080/",
          "height": 370
        },
        "id": "Wh1TtCG-VtoG",
        "outputId": "48ea88e4-9404-43db-c23e-729c87854b80"
      },
      "source": [
        "resultados = {}\n",
        "save_and_show_resultados('auto-sklearn', cls, resultados, X_train, X_test, y_train, y_test)"
      ],
      "execution_count": 14,
      "outputs": [
        {
          "output_type": "display_data",
          "data": {
            "image/png": "[encoded data removed]",
            "text/plain": [
              "<Figure size 1296x360 with 4 Axes>"
            ]
          },
          "metadata": {
            "tags": [],
            "needs_background": "light"
          }
        }
      ]
    },
    {
      "cell_type": "code",
      "metadata": {
        "colab": {
          "base_uri": "https://localhost:8080/",
          "height": 204
        },
        "id": "5tNPWBO31fQx",
        "outputId": "b98dd6a1-f431-4df6-8152-a28579505589"
      },
      "source": [
        "def tabla_resultados(resultados):\n",
        "  df = pd.DataFrame.from_dict(resultados, orient='index')\n",
        "  display(df)\n",
        "  return df\n",
        "tabla_resultados(resultados)"
      ],
      "execution_count": 15,
      "outputs": [
        {
          "output_type": "display_data",
          "data": {
            "text/html": [
              "<div>\n",
              "<style scoped>\n",
              "    .dataframe tbody tr th:only-of-type {\n",
              "        vertical-align: middle;\n",
              "    }\n",
              "\n",
              "    .dataframe tbody tr th {\n",
              "        vertical-align: top;\n",
              "    }\n",
              "\n",
              "    .dataframe thead tr th {\n",
              "        text-align: left;\n",
              "    }\n",
              "</style>\n",
              "<table border=\"1\" class=\"dataframe\">\n",
              "  <thead>\n",
              "    <tr>\n",
              "      <th></th>\n",
              "      <th colspan=\"4\" halign=\"left\">Entrenamiento</th>\n",
              "      <th colspan=\"4\" halign=\"left\">Pruebas</th>\n",
              "    </tr>\n",
              "    <tr>\n",
              "      <th></th>\n",
              "      <th>Exactitud</th>\n",
              "      <th>F1</th>\n",
              "      <th>AUC</th>\n",
              "      <th>TypeI</th>\n",
              "      <th>Exactitud</th>\n",
              "      <th>F1</th>\n",
              "      <th>AUC</th>\n",
              "      <th>TypeI</th>\n",
              "    </tr>\n",
              "  </thead>\n",
              "  <tbody>\n",
              "    <tr>\n",
              "      <th>auto-sklearn</th>\n",
              "      <td>0.991017</td>\n",
              "      <td>0.841424</td>\n",
              "      <td>0.9807</td>\n",
              "      <td>3</td>\n",
              "      <td>0.972874</td>\n",
              "      <td>0.327273</td>\n",
              "      <td>0.933574</td>\n",
              "      <td>2</td>\n",
              "    </tr>\n",
              "  </tbody>\n",
              "</table>\n",
              "</div>"
            ],
            "text/plain": [
              "             Entrenamiento                    ...   Pruebas                \n",
              "                 Exactitud        F1     AUC  ...        F1       AUC TypeI\n",
              "auto-sklearn      0.991017  0.841424  0.9807  ...  0.327273  0.933574     2\n",
              "\n",
              "[1 rows x 8 columns]"
            ]
          },
          "metadata": {
            "tags": []
          }
        },
        {
          "output_type": "execute_result",
          "data": {
            "text/html": [
              "<div>\n",
              "<style scoped>\n",
              "    .dataframe tbody tr th:only-of-type {\n",
              "        vertical-align: middle;\n",
              "    }\n",
              "\n",
              "    .dataframe tbody tr th {\n",
              "        vertical-align: top;\n",
              "    }\n",
              "\n",
              "    .dataframe thead tr th {\n",
              "        text-align: left;\n",
              "    }\n",
              "</style>\n",
              "<table border=\"1\" class=\"dataframe\">\n",
              "  <thead>\n",
              "    <tr>\n",
              "      <th></th>\n",
              "      <th colspan=\"4\" halign=\"left\">Entrenamiento</th>\n",
              "      <th colspan=\"4\" halign=\"left\">Pruebas</th>\n",
              "    </tr>\n",
              "    <tr>\n",
              "      <th></th>\n",
              "      <th>Exactitud</th>\n",
              "      <th>F1</th>\n",
              "      <th>AUC</th>\n",
              "      <th>TypeI</th>\n",
              "      <th>Exactitud</th>\n",
              "      <th>F1</th>\n",
              "      <th>AUC</th>\n",
              "      <th>TypeI</th>\n",
              "    </tr>\n",
              "  </thead>\n",
              "  <tbody>\n",
              "    <tr>\n",
              "      <th>auto-sklearn</th>\n",
              "      <td>0.991017</td>\n",
              "      <td>0.841424</td>\n",
              "      <td>0.9807</td>\n",
              "      <td>3</td>\n",
              "      <td>0.972874</td>\n",
              "      <td>0.327273</td>\n",
              "      <td>0.933574</td>\n",
              "      <td>2</td>\n",
              "    </tr>\n",
              "  </tbody>\n",
              "</table>\n",
              "</div>"
            ],
            "text/plain": [
              "             Entrenamiento                    ...   Pruebas                \n",
              "                 Exactitud        F1     AUC  ...        F1       AUC TypeI\n",
              "auto-sklearn      0.991017  0.841424  0.9807  ...  0.327273  0.933574     2\n",
              "\n",
              "[1 rows x 8 columns]"
            ]
          },
          "metadata": {
            "tags": []
          },
          "execution_count": 15
        }
      ]
    },
    {
      "cell_type": "markdown",
      "metadata": {
        "id": "9jz-O6QNMjPT"
      },
      "source": [
        "## Formato de informe"
      ]
    },
    {
      "cell_type": "code",
      "metadata": {
        "id": "iqseWKv-Mm4k"
      },
      "source": [
        "def ax_setup(ax):\n",
        "    ax.xaxis.set_tick_params(which='major', size=10, width=2, direction='in', top='on')\n",
        "    ax.xaxis.set_tick_params(which='minor', size=7, width=2, direction='in', top='on')\n",
        "    ax.yaxis.set_tick_params(which='major', size=10, width=2, direction='in', right='on')\n",
        "    ax.yaxis.set_tick_params(which='minor', size=7, width=2, direction='in', right='on')"
      ],
      "execution_count": 16,
      "outputs": []
    },
    {
      "cell_type": "code",
      "metadata": {
        "id": "WFpeWHvXMiTk"
      },
      "source": [
        "def save_and_show_resultados2(descripcion, model, resultados, X_train, X_test, y_train, y_test):\n",
        "  y_train_pred = model.predict(X_train)\n",
        "  y_train_pred_proba = model.predict_proba(X_train)[:,1]\n",
        "\n",
        "  y_test_pred = model.predict(X_test)\n",
        "  y_test_pred_proba = model.predict_proba(X_test)[:,1]\n",
        "\n",
        "  confusion_matrix_train = confusion_matrix(y_train, y_train_pred)\n",
        "  confusion_matrix_test = confusion_matrix(y_test, y_test_pred)\n",
        "\n",
        "  resultados.update( { descripcion: {\n",
        "      ('Entrenamiento', 'Exactitud'): model.score(X_train, y_train),\n",
        "      ('Entrenamiento', 'Exhaustividad'): recall_score(y_train, y_train_pred),\n",
        "      ('Entrenamiento', 'F1'): f1_score(y_train, y_train_pred),\n",
        "      ('Entrenamiento', 'AUC'): roc_auc_score(y_train, y_train_pred_proba),\n",
        "      ('Entrenamiento', 'TypeI'): confusion_matrix_train[0][1],\n",
        "      ('Pruebas', 'Exactitud'): model.score(X_test, y_test),\n",
        "      ('Pruebas', 'Exhaustividad'): recall_score(y_test, y_test_pred),\n",
        "      ('Pruebas', 'F1'): f1_score(y_test, y_test_pred),\n",
        "      ('Pruebas', 'AUC'): roc_auc_score(y_test, y_test_pred_proba),\n",
        "      ('Pruebas', 'TypeI'): confusion_matrix_test[0][1]\n",
        "    } } )\n",
        "  fig, axes = plt.subplots(1, 2, figsize=(12, 5))\n",
        "  ax_setup(axes[0])\n",
        "  ax_setup(axes[1])\n",
        "  fig.suptitle(f'{descripcion} (Conjunto de Pruebas)')\n",
        "  plot_confusion_matrix(model, X_test, y_test, ax=axes[0], values_format='d')\n",
        "  plot_roc_curve(model, X_test, y_test, ax=axes[1], name=descripcion)\n",
        "  return"
      ],
      "execution_count": 17,
      "outputs": []
    },
    {
      "cell_type": "code",
      "metadata": {
        "colab": {
          "base_uri": "https://localhost:8080/",
          "height": 366
        },
        "id": "wpBYs937Mp51",
        "outputId": "864bfb92-32bf-476b-d58d-a756dd70509b"
      },
      "source": [
        "resultados = {}\n",
        "save_and_show_resultados2('auto-sklearn', cls, resultados, X_train, X_test, y_train, y_test)"
      ],
      "execution_count": 18,
      "outputs": [
        {
          "output_type": "display_data",
          "data": {
            "image/png": "[encoded data removed]",
            "text/plain": [
              "<Figure size 864x360 with 3 Axes>"
            ]
          },
          "metadata": {
            "tags": [],
            "needs_background": "light"
          }
        }
      ]
    }
  ]
}